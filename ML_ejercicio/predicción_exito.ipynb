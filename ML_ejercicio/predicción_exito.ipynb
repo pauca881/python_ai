{
 "cells": [
  {
   "cell_type": "code",
   "execution_count": null,
   "metadata": {},
   "outputs": [],
   "source": [
    "# Una empresa quiere lanzar un nuevo producto al mercado. Antes de hacerlo, desea predecir si este producto \n",
    "# será un éxito o un fracaso basándose en tres características: \n",
    "# 1. Costo de producción \n",
    "# 2. Precio de venta al público \n",
    "# 3. Gasto en publicidad \n",
    "# Tienes acceso a un conjunto de datos con 1000 registros que contienen estos parámetros y el resultado de \n",
    "# ventas de productos anteriores (Éxito/Fracaso). "
   ]
  },
  {
   "cell_type": "code",
   "execution_count": 3,
   "metadata": {},
   "outputs": [],
   "source": [
    "import numpy as np\n",
    "import pandas as pd"
   ]
  },
  {
   "cell_type": "code",
   "execution_count": null,
   "metadata": {},
   "outputs": [],
   "source": [
    "# Semilla para reproducibilidad\n",
    "np.random.seed(42)\n",
    "\n",
    "# Crear datos aleatorios para las características \n",
    "costo_produccion = np.random.uniform(50, 200, 1000)  # costos entre 50 y 200 ( 1000 productos )\n",
    "precio_venta = costo_produccion + np.random.uniform(20, 80, 1000)  # precio de venta mayor al costo de producción \n",
    "gasto_publicidad = np.random.uniform(500, 5000, 1000)  # gasto en publicidad entre 500 y 5000 \n",
    " \n",
    "# Suponemos que un producto es un éxito si el precio de venta es menos de 1.5 veces el costo y el gasto en \n",
    "#publicidad es mayor a 2500 \n",
    "# Esto es solo para fines de ejemplo y no tiene una base real. \n",
    "\n"
   ]
  },
  {
   "cell_type": "code",
   "execution_count": 6,
   "metadata": {},
   "outputs": [],
   "source": [
    "etiquetas = np.where((precio_venta < 1.5 * costo_produccion) & (gasto_publicidad > 2500), 'Éxito', 'Fracaso')\n",
    "# Si ambas condiciones se cumplen, asigna la etiqueta 'Éxito'. Si no se cumplen, asigna 'Fracaso'.\n",
    "\n",
    "# Crear DataFrame con los datos\n",
    "df = pd.DataFrame({\n",
    "'Costo_de_Produccion': costo_produccion,\n",
    "'Precio_de_Venta': precio_venta,\n",
    "'Gasto_en_Publicidad': gasto_publicidad,\n",
    "'Resultado': etiquetas\n",
    "})\n",
    "\n",
    "# Guardar el DataFrame en un archivo CSV\n",
    "df.to_csv('datos_producto.csv', index=False)\n",
    "\n"
   ]
  },
  {
   "cell_type": "code",
   "execution_count": null,
   "metadata": {},
   "outputs": [],
   "source": [
    "from sklearn.model_selection import train_test_split, GridSearchCV\n",
    "from sklearn.ensemble import RandomForestClassifier\n",
    "from sklearn.metrics import accuracy_score\n",
    "\n",
    "# Cargar los datos\n",
    "df = pd.read_csv('datos_producto.csv')\n",
    "\n",
    "# Preprocesar las etiquetas\n",
    "df['Resultado'] = np.where(df['Resultado'] == 'Éxito', 1, 0)\n",
    "\n",
    "# Separar características y etiquetas\n",
    "X = df[['Costo_de_Produccion', 'Precio_de_Venta', 'Gasto_en_Publicidad']]\n",
    "y = df['Resultado']\n",
    "\n",
    "# Dividir en conjunto de entrenamiento y prueba\n",
    "X_train, X_test, y_train, y_test = train_test_split(X, y, test_size=0.2, random_state=42)\n",
    "\n",
    "# Definir el modelo\n",
    "rf = RandomForestClassifier(random_state=42)\n",
    "\n",
    "# Definir los parámetros a ajustar\n",
    "param_grid = {\n",
    "    'criterion': ['gini', 'entropy'],\n",
    "    'n_estimators': [50, 100, 200],\n",
    "    'max_depth': [None, 10, 20, 30, 40, 50],\n",
    "    'min_samples_split': [2, 5, 10],\n",
    "    'min_samples_leaf': [1, 2, 5, 10],\n",
    "    'min_impurity_decrease': [0.0, 0.01, 0.1]\n",
    "}\n",
    "\n",
    "# Configurar Grid Search\n",
    "grid_search = GridSearchCV(estimator=rf, param_grid=param_grid, \n",
    "                           scoring='accuracy', cv=5, n_jobs=-1)\n",
    "\n",
    "# Ajustar el modelo\n",
    "grid_search.fit(X_train, y_train)\n",
    "\n",
    "# Resultados\n",
    "print(\"Mejores parámetros:\", grid_search.best_params_)\n",
    "print(\"Mejor precisión en validación cruzada:\", grid_search.best_score_)\n",
    "\n",
    "# Evaluar el modelo en el conjunto de prueba\n",
    "best_model = grid_search.best_estimator_\n",
    "y_pred = best_model.predict(X_test)\n",
    "print(\"Precisión en conjunto de prueba:\", accuracy_score(y_test, y_pred))\n",
    "\n"
   ]
  }
 ],
 "metadata": {
  "kernelspec": {
   "display_name": "base",
   "language": "python",
   "name": "python3"
  },
  "language_info": {
   "codemirror_mode": {
    "name": "ipython",
    "version": 3
   },
   "file_extension": ".py",
   "mimetype": "text/x-python",
   "name": "python",
   "nbconvert_exporter": "python",
   "pygments_lexer": "ipython3",
   "version": "3.12.4"
  }
 },
 "nbformat": 4,
 "nbformat_minor": 2
}
