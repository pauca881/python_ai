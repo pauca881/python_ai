{
 "cells": [
  {
   "cell_type": "code",
   "execution_count": null,
   "metadata": {},
   "outputs": [],
   "source": [
    "def saludar(nombre):\n",
    "    print(f'Hola {nombre}')\n",
    "\n",
    "saludar('Carlos')"
   ]
  },
  {
   "cell_type": "code",
   "execution_count": null,
   "metadata": {},
   "outputs": [],
   "source": [
    "#Lambda\n",
    "#Si no lo voy a usar más veces, uso lambda\n",
    "multiplicar = lambda x, y: x*y\n",
    "resultado = multiplicar(2, 3)\n",
    "print(f'El resultado es: {resultado}')"
   ]
  },
  {
   "cell_type": "code",
   "execution_count": 1,
   "metadata": {},
   "outputs": [
    {
     "name": "stdout",
     "output_type": "stream",
     "text": [
      "[1, 4, 9, 16, 25]\n"
     ]
    }
   ],
   "source": [
    "def cuadrado(x):\n",
    "    return x ** 2\n",
    "\n",
    "# Nuestra lista de números\n",
    "numeros = [1, 2, 3, 4, 5]\n",
    "\n",
    "# Aplicamos map\n",
    "resultado = map(cuadrado, numeros)\n",
    "\n",
    "# Convertimos el resultado a una lista para verlo\n",
    "resultado_lista = list(resultado)\n",
    "\n",
    "print(resultado_lista)"
   ]
  },
  {
   "cell_type": "code",
   "execution_count": 2,
   "metadata": {},
   "outputs": [
    {
     "name": "stdout",
     "output_type": "stream",
     "text": [
      "[2, 4, 6, 8, 10]\n"
     ]
    }
   ],
   "source": [
    "# Ejercicio 1: Aplicación de Funciones a una Lista\n",
    "# Enunciado:\n",
    "# Crea una función llamada duplicar_lista que, utilizando programación funcional, duplique cada número de una\n",
    "# lista de enteros. La función debe devolver una nueva lista con los números duplicados.\n",
    "integer_list = [1,2,3,4,5]\n",
    "\n",
    "def duplicar(x):\n",
    "    return x*2\n",
    "\n",
    "resultado = map(duplicar, integer_list)\n",
    "resultado_leible = list(resultado)\n",
    "\n",
    "print(resultado_leible)\n",
    "    "
   ]
  },
  {
   "cell_type": "code",
   "execution_count": 3,
   "metadata": {},
   "outputs": [
    {
     "name": "stdout",
     "output_type": "stream",
     "text": [
      "[2, 4]\n"
     ]
    }
   ],
   "source": [
    "# Ejercicio 2: Filtrar Números Pares\n",
    "# Enunciado:\n",
    "# Crea una función llamada filtrar_pares que, utilizando programación funcional, reciba una lista de enteros y\n",
    "# devuelva una nueva lista solo con los números pares.\n",
    "integer_list = [1,2,3,4,5]\n",
    "\n",
    "#Map() modificar todos los elementos\n",
    "#filter() eñiminar algun elemento\n",
    "def filtrar_pares(x):\n",
    "    return list(filter(lambda x:x%2==0, x))\n",
    "\n",
    "#Lambda es igual a funcion(x): return x%2==0\n",
    "\n",
    "lista_pares = filtrar_pares(integer_list)\n",
    "print(lista_pares)\n"
   ]
  },
  {
   "cell_type": "code",
   "execution_count": 5,
   "metadata": {},
   "outputs": [
    {
     "name": "stdout",
     "output_type": "stream",
     "text": [
      "15\n",
      "15\n"
     ]
    }
   ],
   "source": [
    "# Ejercicio 3: Sumar todos los números\n",
    "# Enunciado:\n",
    "# Crea una función llamada sumar_numeros que, utilizando programación funcional, reciba una lista de enteros y\n",
    "# devuelva la suma de todos los números de la lista.\n",
    "#Map() modificar todos los elementos\n",
    "#filter() eliminar algun elemento\n",
    "#reduce() devuelve solo un elemento\n",
    "from functools import reduce\n",
    "integer_list = [1,2,3,4,5]\n",
    "\n",
    "def sumar_numeros_funcional(lista):\n",
    "    return reduce(lambda x, y: x+y, lista)\n",
    "\n",
    "#Alternativa fácil:\n",
    "print(sum(integer_list))\n",
    "\n",
    "print(sumar_numeros_funcional(integer_list))"
   ]
  },
  {
   "cell_type": "code",
   "execution_count": 8,
   "metadata": {},
   "outputs": [
    {
     "name": "stdout",
     "output_type": "stream",
     "text": [
      "[15, 15, 15]\n"
     ]
    }
   ],
   "source": [
    "# Ejercicio 4: Aplicar Funciones a una Lista de Listas\n",
    "# Enunciado:\n",
    "# Crea una función llamada aplicar_a_lista_de_listas que, utilizando programación funcional, reciba una lista de\n",
    "# listas de enteros y aplique una función de suma a cada una de las listas internas, devolviendo una nueva lista con\n",
    "# la suma de cada sublista.\n",
    "\n",
    "integer_list_list = [[1,2,3,4,5],[1,2,3,4,5],[1,2,3,4,5]]\n",
    "\n",
    "def aplicar_a_lista_de_listas(x):\n",
    "    return list(map(sum, x))\n",
    "\n",
    "\n",
    "print(aplicar_a_lista_de_listas(integer_list_list))"
   ]
  },
  {
   "cell_type": "code",
   "execution_count": 11,
   "metadata": {},
   "outputs": [
    {
     "name": "stdout",
     "output_type": "stream",
     "text": [
      "first,second,third\n"
     ]
    }
   ],
   "source": [
    "# Ejercicio 5: Concatenar Listas de Palabras\n",
    "# Enunciado:\n",
    "# Crea una función llamada concatenar_palabras que, utilizando programación funcional, reciba una lista de listas\n",
    "# de palabras y devuelva una sola lista concatenando todas las palabras en una sola lista.\n",
    "\n",
    "word_list=['first','second', 'third']\n",
    "\n",
    "def concatenar_palabras(lista):\n",
    "    return reduce(lambda x, y: x + ',' + y, lista)\n",
    "\n",
    "print(concatenar_palabras(word_list))"
   ]
  },
  {
   "cell_type": "code",
   "execution_count": 14,
   "metadata": {},
   "outputs": [
    {
     "name": "stdout",
     "output_type": "stream",
     "text": [
      "Las palabras con más de 5 letras són: ['second']\n"
     ]
    }
   ],
   "source": [
    "# Ejercicio 6: Contar Palabras con una Condición\n",
    "# Enunciado:\n",
    "# Crea una función llamada contar_palabras_largas que, utilizando programación funcional, cuente cuántas\n",
    "# palabras en una lista tienen más de 5 letras.\n",
    "\n",
    "word_list=['first','second', 'third']\n",
    "\n",
    "def contar_palabras_largas(lista):\n",
    "    return list(filter(lambda palabra : len(palabra) > 5, lista))\n",
    "\n",
    "print(f'Las palabras con más de 5 letras són: {contar_palabras_largas(word_list)}')"
   ]
  },
  {
   "cell_type": "code",
   "execution_count": 15,
   "metadata": {},
   "outputs": [
    {
     "name": "stdout",
     "output_type": "stream",
     "text": [
      "a 1\n",
      "b 2\n",
      "*args: (3, 4, 5)\n",
      "clave1: nuevo valor\n",
      "*kwargs: {'clave2': 'valor extra'}\n"
     ]
    }
   ],
   "source": [
    "#Apuntes\n",
    "def ejemplo(a,b,*args, clave1='valor1', **kwargs):\n",
    "    print('a', a)\n",
    "    print('b', b)\n",
    "    print('*args:', args)\n",
    "    print('clave1:', clave1)\n",
    "    print('*kwargs:', kwargs)\n",
    "\n",
    "\n",
    "ejemplo(1,2,3,4,5, clave1='nuevo valor', clave2='valor extra')"
   ]
  },
  {
   "cell_type": "code",
   "execution_count": 24,
   "metadata": {},
   "outputs": [
    {
     "name": "stdout",
     "output_type": "stream",
     "text": [
      "['FIRST', 'SECOND', 'THIRD']\n",
      "0\n"
     ]
    }
   ],
   "source": [
    "# Ejercicio 7: Composición de Funciones\n",
    "# Enunciado:\n",
    "# Crea dos funciones: convertir_a_mayusculas que convierta todas las palabras de una lista a mayúsculas y\n",
    "# contar_palabras_mayusculas que cuente cuántas palabras están en mayúsculas en una lista.\n",
    "\n",
    "word_list=['First','Second', 'Third']\n",
    "\n",
    "\n",
    "def convertir_a_mayusculas(lista):\n",
    "    return list(map(lambda x: x.upper(), lista))\n",
    "\n",
    "lista_mayusculas = convertir_a_mayusculas(word_list)\n",
    "\n",
    "def contar_palabras_mayusculas(lista):\n",
    "    #SUMO 1 para cada palabra en lista si ES MAYÚSCULAS (isupper)\n",
    "    return sum(1 for palabra in lista if palabra.isupper())\n",
    "\n",
    "num_mayusculas = contar_palabras_mayusculas(word_list)\n",
    "\n",
    "print(lista_mayusculas)\n",
    "print(num_mayusculas)\n",
    "    \n"
   ]
  },
  {
   "cell_type": "code",
   "execution_count": 20,
   "metadata": {},
   "outputs": [
    {
     "name": "stdout",
     "output_type": "stream",
     "text": [
      "Madrid [25, 27, 23]\n"
     ]
    }
   ],
   "source": [
    "import numpy as np\n",
    "\n",
    "datos_meteorologicos = datos_meteorologicos = [\n",
    "    [\"Madrid\", [25, 27, 23]],\n",
    "    [\"Barcelona\", [28, 30, 26]],\n",
    "    [\"Ciudad de México\", [22, 21, 24]],\n",
    "    [\"Buenos Aires\", [18, 20, 22]],\n",
    "    [\"Lima\", [19, 20, 18]],\n",
    "    [\"Santiago\", [15, 17, 16]],\n",
    "    [\"Bogotá\", [14, 13, 15]],\n",
    "    [\"Caracas\", [30, 31, 29]],\n",
    "]\n",
    "\n",
    "\n",
    "\n",
    "def promedio_temperatura(x):\n",
    "    return np.mean(x)\n",
    "\n",
    "ciudad, temperaturas = datos_meteorologicos[0]\n",
    "\n",
    "print(ciudad, temperaturas)\n"
   ]
  },
  {
   "cell_type": "code",
   "execution_count": 23,
   "metadata": {},
   "outputs": [
    {
     "name": "stdout",
     "output_type": "stream",
     "text": [
      "[('Madrid', 25.0), ('Barcelona', 28.0), ('Ciudad de México', 22.333333333333332), ('Buenos Aires', 20.0), ('Lima', 19.0), ('Santiago', 16.0), ('Bogotá', 14.0), ('Caracas', 30.0)]\n"
     ]
    }
   ],
   "source": [
    "def promedio_ciudades(datos):\n",
    "    return [(ciudad, promedio_temperatura(temperaturas)) for ciudad, temperaturas in datos]     \n",
    "#Repasar listas por comprensión\n",
    "\n",
    "promedios = promedio_ciudades(datos_meteorologicos)\n",
    "print(promedios)   \n",
    "    "
   ]
  },
  {
   "cell_type": "code",
   "execution_count": null,
   "metadata": {},
   "outputs": [],
   "source": [
    "def promedio_cada_ciudad(x):\n",
    "    ciudad, temperaturas = x\n",
    "    return ciudad,promedio_temperatura = x\n",
    "\n",
    "    "
   ]
  },
  {
   "cell_type": "code",
   "execution_count": 2,
   "metadata": {},
   "outputs": [
    {
     "name": "stdout",
     "output_type": "stream",
     "text": [
      "24\n"
     ]
    }
   ],
   "source": [
    "#Ejercicio 8: \n",
    "# Enunciado:\n",
    "# Crea una función llamada procesar_numeros que reciba una lista de enteros y:\n",
    "# 1. Filtre los números pares.\n",
    "# 2. Duplique cada número par.\n",
    "# 3. Sume todos los números duplicados. Todo esto utilizando programación funcional.\n",
    "from functools import reduce\n",
    "\n",
    "\n",
    "def procesar_numeros(numeros):\n",
    "  return reduce(lambda x, y: x + y, map(lambda x: x * 2, filter(lambda x: x % 2 == 0, numeros)))\n",
    "\n",
    "resultado = procesar_numeros([1, 2, 3, 4, 5, 6])\n",
    "print(resultado)\n",
    "\n",
    "    "
   ]
  },
  {
   "cell_type": "code",
   "execution_count": null,
   "metadata": {},
   "outputs": [],
   "source": [
    "# Ejercicio 9: Aplicación Parcial\n",
    "# Enunciado:\n",
    "# Crea una función llamada multiplicar_por que, utilizando la técnica de aplicación parcial (con la ayuda de\n",
    "# functools.partial), permita crear una función que multiplique por un número dado.\n",
    "\n",
    "from functools import partial\n",
    "\n",
    "def multiplicar_por(multiplicador, numero):\n",
    "  return multiplicador * numero\n",
    "\n",
    "#aqui creo una función que multiplique por 5\n",
    "multiplicar_por_5 = partial(multiplicar_por, 5)\n",
    "\n",
    "#y uso la función creada\n",
    "# 5 * 10\n",
    "resultado = multiplicar_por_5(10)  \n",
    "print(resultado) \n"
   ]
  },
  {
   "cell_type": "code",
   "execution_count": null,
   "metadata": {},
   "outputs": [],
   "source": [
    "# Ejercicio 10: Composición Completa de Funciones\n",
    "# Enunciado:\n",
    "# Crea una función llamada procesar_texto que:\n",
    "# 1. Convierta todas las palabras de una lista a minúsculas.\n",
    "# 2. Filtre aquellas palabras que comienzan con vocal.\n",
    "# 3. Cuente cuántas palabras cumplen con esta condición.\n",
    "# Todo esto utilizando programación funcional.\n",
    "from functools import reduce\n",
    "\n",
    "def convertir_a_minusculas(palabras):\n",
    "  return map(lambda palabra: palabra.lower(), palabras)\n",
    "\n",
    "def comienza_con_vocal(palabra):\n",
    "  vocales = \"aeiou\"\n",
    "  return palabra[0] in vocales\n",
    "\n",
    "def contar_palabras(palabras):\n",
    "  return reduce(lambda x, y: x + 1, palabras, 0)\n",
    "\n",
    "def procesar_texto(palabras):\n",
    "\n",
    "  palabras_minusculas = convertir_a_minusculas(palabras)\n",
    "  palabras_con_vocal = filter(comienza_con_vocal, palabras_minusculas)\n",
    "  cantidad_palabras = contar_palabras(palabras_con_vocal)\n",
    "  return cantidad_palabras\n",
    "\n",
    "texto = [\"Frase\", \"para\", \"comprovar\", \"el\", \"gran\", \"ejercicio\"]\n",
    "resultado = procesar_texto(texto)\n",
    "print(resultado)\n",
    "\n"
   ]
  }
 ],
 "metadata": {
  "kernelspec": {
   "display_name": "base",
   "language": "python",
   "name": "python3"
  },
  "language_info": {
   "codemirror_mode": {
    "name": "ipython",
    "version": 3
   },
   "file_extension": ".py",
   "mimetype": "text/x-python",
   "name": "python",
   "nbconvert_exporter": "python",
   "pygments_lexer": "ipython3",
   "version": "3.12.4"
  }
 },
 "nbformat": 4,
 "nbformat_minor": 2
}
