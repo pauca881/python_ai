{
 "cells": [
  {
   "cell_type": "code",
   "execution_count": 2,
   "metadata": {},
   "outputs": [
    {
     "name": "stdout",
     "output_type": "stream",
     "text": [
      "Collecting astprettyNote: you may need to restart the kernel to use updated packages.\n",
      "\n",
      "  Downloading astpretty-3.0.0-py2.py3-none-any.whl.metadata (5.5 kB)\n",
      "Downloading astpretty-3.0.0-py2.py3-none-any.whl (4.9 kB)\n",
      "Installing collected packages: astpretty\n",
      "Successfully installed astpretty-3.0.0\n"
     ]
    }
   ],
   "source": [
    "%pip install astpretty\n"
   ]
  },
  {
   "cell_type": "code",
   "execution_count": 13,
   "metadata": {},
   "outputs": [
    {
     "name": "stdout",
     "output_type": "stream",
     "text": [
      "Error de sintaxis: '(' was never closed (<unknown>, line 7)\n"
     ]
    }
   ],
   "source": [
    "import ast\n",
    "from transformers import AutoTokenizer, AutoModelForSeq2SeqLM\n",
    "\n",
    "# Modelo preentrenado para comprensión de código\n",
    "MODEL_NAME = \"Salesforce/codet5-small\"  # Modelo preentrenado en código (CodeT5)\n",
    "\n",
    "tokenizer = AutoTokenizer.from_pretrained(MODEL_NAME)\n",
    "model = AutoModelForSeq2SeqLM.from_pretrained(MODEL_NAME)\n",
    "\n",
    "def check_syntax(script):\n",
    "    \"\"\"\n",
    "    Chequea la sintaxis del script usando ast.\n",
    "    \"\"\"\n",
    "    try:\n",
    "        ast.parse(script)\n",
    "        return True, \"No se detectaron errores de sintaxis.\"\n",
    "    except SyntaxError as e:\n",
    "        return False, f\"Error de sintaxis: {e}\"\n",
    "\n",
    "def analyze_script_with_transformer(script):\n",
    "    \"\"\"\n",
    "    Usa un modelo transformer para analizar el script y detectar posibles errores.\n",
    "    \"\"\"\n",
    "    # Prepara el script como entrada para el modelo\n",
    "    input_text = f\"Detect errors in the following Python script:\\n\\n{script}\"\n",
    "    inputs = tokenizer(input_text, return_tensors=\"pt\", max_length=512, truncation=True)\n",
    "\n",
    "    # Genera predicciones del modelo\n",
    "    outputs = model.generate(**inputs, max_length=512, num_beams=4, early_stopping=True)\n",
    "    prediction = tokenizer.decode(outputs[0], skip_special_tokens=True)\n",
    "    return prediction\n",
    "\n",
    "def validate_python_script(script):\n",
    "    \"\"\"\n",
    "    Valida un script de Python combinando AST y Transformer.\n",
    "    \"\"\"\n",
    "    # Paso 1: Validación de sintaxis\n",
    "    syntax_valid, syntax_message = check_syntax(script)\n",
    "\n",
    "    # Paso 2: Validación con Transformer si la sintaxis es válida\n",
    "    if syntax_valid:\n",
    "        transformer_analysis = analyze_script_with_transformer(script)\n",
    "        return f\"Análisis del Script:\\n{transformer_analysis}\"\n",
    "    else:\n",
    "        return syntax_message\n",
    "\n",
    "# Ejemplo de uso\n",
    "script_with_error = \"\"\"\n",
    "\n",
    "\n",
    "def divide(a ,b):\n",
    "    return  a/ b\n",
    "\n",
    "prin((divide5,5)\n",
    "\"\"\"\n",
    "\n",
    "result = validate_python_script(script_with_error)\n",
    "print(result)\n"
   ]
  }
 ],
 "metadata": {
  "kernelspec": {
   "display_name": "transformers",
   "language": "python",
   "name": "python3"
  },
  "language_info": {
   "codemirror_mode": {
    "name": "ipython",
    "version": 3
   },
   "file_extension": ".py",
   "mimetype": "text/x-python",
   "name": "python",
   "nbconvert_exporter": "python",
   "pygments_lexer": "ipython3",
   "version": "3.12.7"
  }
 },
 "nbformat": 4,
 "nbformat_minor": 2
}
