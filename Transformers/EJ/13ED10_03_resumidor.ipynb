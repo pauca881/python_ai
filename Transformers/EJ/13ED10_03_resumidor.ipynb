{
 "cells": [
  {
   "cell_type": "code",
   "execution_count": 3,
   "metadata": {},
   "outputs": [
    {
     "name": "stdout",
     "output_type": "stream",
     "text": [
      "Texto original:\n",
      "\n",
      "La inteligencia artificial (IA) es un campo de la informática que busca crear sistemas capaces de realizar tareas que, \n",
      "normalmente, requieren de inteligencia humana. Estas tareas incluyen el reconocimiento del habla, la toma de decisiones, \n",
      "la traducción de idiomas, el reconocimiento de patrones y la resolución de problemas complejos. \n",
      "En los últimos años, la IA ha avanzado de manera significativa, gracias al aprendizaje profundo y las redes neuronales, \n",
      "lo que ha permitido aplicaciones en campos como la medicina, la educación, el transporte y el entretenimiento.\n",
      "\n",
      "\n",
      "Resumen:\n",
      "La inteligencia artificial (IA) es un campo de la informática que busca crear sistemas capaces de realizar tareas que, normalmente, requieren de inteligence humana. El reconocimiento del habla, la toma of decisiones, el\n"
     ]
    }
   ],
   "source": [
    "from transformers import pipeline\n",
    "\n",
    "# Cargar el pipeline de resumen\n",
    "summarizer = pipeline(\"summarization\", model=\"facebook/bart-large-cnn\")\n",
    "\n",
    "# Texto en español para resumir\n",
    "text = \"\"\"\n",
    "La inteligencia artificial (IA) es un campo de la informática que busca crear sistemas capaces de realizar tareas que, \n",
    "normalmente, requieren de inteligencia humana. Estas tareas incluyen el reconocimiento del habla, la toma de decisiones, \n",
    "la traducción de idiomas, el reconocimiento de patrones y la resolución de problemas complejos. \n",
    "En los últimos años, la IA ha avanzado de manera significativa, gracias al aprendizaje profundo y las redes neuronales, \n",
    "lo que ha permitido aplicaciones en campos como la medicina, la educación, el transporte y el entretenimiento.\n",
    "\"\"\"\n",
    "\n",
    "# Generar el resumen\n",
    "summary = summarizer(text, max_length=75, min_length=25, do_sample=True)\n",
    "\n",
    "print(\"Texto original:\")\n",
    "print(text)\n",
    "print(\"\\nResumen:\")\n",
    "print(summary[0][\"summary_text\"])\n"
   ]
  }
 ],
 "metadata": {
  "kernelspec": {
   "display_name": "transformers",
   "language": "python",
   "name": "python3"
  },
  "language_info": {
   "codemirror_mode": {
    "name": "ipython",
    "version": 3
   },
   "file_extension": ".py",
   "mimetype": "text/x-python",
   "name": "python",
   "nbconvert_exporter": "python",
   "pygments_lexer": "ipython3",
   "version": "3.12.7"
  }
 },
 "nbformat": 4,
 "nbformat_minor": 2
}
