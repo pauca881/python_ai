{
 "cells": [
  {
   "cell_type": "code",
   "execution_count": null,
   "metadata": {},
   "outputs": [],
   "source": [
    "pip install protobuf\n"
   ]
  },
  {
   "cell_type": "code",
   "execution_count": 11,
   "metadata": {},
   "outputs": [
    {
     "name": "stdout",
     "output_type": "stream",
     "text": [
      "Preguntas generadas:\n",
      "1. La inteligencia artificial (IA) es un campo de la informática que busca crear sistemas capaces de realizar tareas que, normalmente, requieren de inteligencia humana?\n"
     ]
    }
   ],
   "source": [
    "from transformers import pipeline\n",
    "\n",
    "# Cargar el pipeline de generación de preguntas\n",
    "question_generator = pipeline(\"text2text-generation\", model=\"valhalla/t5-small-qg-prepend\")\n",
    "\n",
    "# Contexto en español\n",
    "context = \"\"\"\n",
    "La inteligencia artificial (IA) es un campo de la informática que busca crear sistemas capaces de realizar tareas que, \n",
    "normalmente, requieren de inteligencia humana. Estas tareas incluyen el reconocimiento del habla, la toma de decisiones, \n",
    "la traducción de idiomas, el reconocimiento de patrones y la resolución de problemas complejos. \n",
    "En los últimos años, la IA ha avanzado de manera significativa, gracias al aprendizaje profundo y las redes neuronales, \n",
    "lo que ha permitido aplicaciones en campos como la medicina, la educación, el transporte y el entretenimiento.\n",
    "\"\"\"\n",
    "\n",
    "# Preparar el input para la generación de preguntas\n",
    "input_text = f\"generate questions: {context}\"\n",
    "\n",
    "# Generar preguntas\n",
    "questions = question_generator(input_text, max_length=150, num_return_sequences=1, num_beams=3)\n",
    "\n",
    "# Mostrar las preguntas generadas\n",
    "print(\"Preguntas generadas:\")\n",
    "for i, question in enumerate(questions):\n",
    "    print(f\"{i + 1}. {question['generated_text']}\")\n"
   ]
  }
 ],
 "metadata": {
  "kernelspec": {
   "display_name": "transformers",
   "language": "python",
   "name": "python3"
  },
  "language_info": {
   "codemirror_mode": {
    "name": "ipython",
    "version": 3
   },
   "file_extension": ".py",
   "mimetype": "text/x-python",
   "name": "python",
   "nbconvert_exporter": "python",
   "pygments_lexer": "ipython3",
   "version": "3.12.7"
  }
 },
 "nbformat": 4,
 "nbformat_minor": 2
}
