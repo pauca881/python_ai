{
 "cells": [
  {
   "cell_type": "code",
   "execution_count": 1,
   "metadata": {},
   "outputs": [
    {
     "name": "stderr",
     "output_type": "stream",
     "text": [
      "c:\\Users\\fundacion\\anaconda3\\envs\\transformers\\Lib\\site-packages\\tqdm\\auto.py:21: TqdmWarning: IProgress not found. Please update jupyter and ipywidgets. See https://ipywidgets.readthedocs.io/en/stable/user_install.html\n",
      "  from .autonotebook import tqdm as notebook_tqdm\n",
      "c:\\Users\\fundacion\\anaconda3\\envs\\transformers\\Lib\\site-packages\\huggingface_hub\\file_download.py:139: UserWarning: `huggingface_hub` cache-system uses symlinks by default to efficiently store duplicated files but your machine does not support them in C:\\Users\\fundacion\\.cache\\huggingface\\hub\\models--datificate--gpt2-small-spanish. Caching files will still work but in a degraded version that might require more space on your disk. This warning can be disabled by setting the `HF_HUB_DISABLE_SYMLINKS_WARNING` environment variable. For more details, see https://huggingface.co/docs/huggingface_hub/how-to-cache#limitations.\n",
      "To support symlinks on Windows, you either need to activate Developer Mode or to run Python as an administrator. In order to activate developer mode, see this article: https://docs.microsoft.com/en-us/windows/apps/get-started/enable-your-device-for-development\n",
      "  warnings.warn(message)\n",
      "Truncation was not explicitly activated but `max_length` is provided a specific value, please use `truncation=True` to explicitly truncate examples to max length. Defaulting to 'longest_first' truncation strategy. If you encode pairs of sequences (GLUE-style) with the tokenizer you can select this strategy more precisely by providing a specific strategy to `truncation`.\n"
     ]
    },
    {
     "name": "stdout",
     "output_type": "stream",
     "text": [
      "Prompt: En un día soleado, el cielo estaba\n",
      "Generación: En un día soleado, el cielo estaba cubierto por una lluvia que también había terminado el día anterior, lo que provocó la muerte prematura, y el cuerpo de los habitantes se llevó al río que fluye directamente desde el lugar de la muerte de la primera\n",
      "--------------------------------------------------\n",
      "Prompt: La inteligencia artificial está cambiando\n",
      "Generación: La inteligencia artificial está cambiando poco durante este período. En marzo de 2005 se completó el llamado proyecto de investigación y desarrollo tecnológico internacional NEE. La misión de NEE para la seguridad nacional era la de proveer el programa de inteligencia electrónica a los Estados miembros\n",
      "--------------------------------------------------\n",
      "Prompt: En el futuro, los avances tecnológicos\n",
      "Generación: En el futuro, los avances tecnológicos en la agricultura para crear las mejores cosechas se intensificaron, y la planta de alimentos fue ampliamente aceptada en la mayor parte del mundo. En muchos países, el cultivo continuó siendo uno de los principales objetivos de las misiones\n",
      "--------------------------------------------------\n",
      "Prompt: La poesía es un reflejo del alma que\n",
      "Generación: La poesía es un reflejo del alma que lo rodea y da soporte vital a los diversos saberes de los que se ocupa, de modo que desde luego va a formar parte de su producción literaria.\n",
      "\n",
      "Su principal interés reside en el desarrollo del personaje\n",
      "--------------------------------------------------\n"
     ]
    }
   ],
   "source": [
    "from transformers import pipeline\n",
    "\n",
    "# Cargar el pipeline de generación de texto con un modelo multilingüe\n",
    "text_generator = pipeline(\"text-generation\", model=\"datificate/gpt2-small-spanish\")\n",
    "\n",
    "# Frases iniciales para generar texto\n",
    "prompts = [\n",
    "    \"En un día soleado, el cielo estaba\",\n",
    "    \"La inteligencia artificial está cambiando\",\n",
    "    \"En el futuro, los avances tecnológicos\",\n",
    "    \"La poesía es un reflejo del alma que\"\n",
    "]\n",
    "\n",
    "# Generar texto para cada prompt\n",
    "for prompt in prompts:\n",
    "    generated_text = text_generator(prompt, max_length=50, num_return_sequences=1)\n",
    "    print(f\"Prompt: {prompt}\")\n",
    "    print(f\"Generación: {generated_text[0]['generated_text']}\")\n",
    "    print(\"-\" * 50)\n"
   ]
  }
 ],
 "metadata": {
  "kernelspec": {
   "display_name": "transformers",
   "language": "python",
   "name": "python3"
  },
  "language_info": {
   "codemirror_mode": {
    "name": "ipython",
    "version": 3
   },
   "file_extension": ".py",
   "mimetype": "text/x-python",
   "name": "python",
   "nbconvert_exporter": "python",
   "pygments_lexer": "ipython3",
   "version": "3.12.7"
  }
 },
 "nbformat": 4,
 "nbformat_minor": 2
}
