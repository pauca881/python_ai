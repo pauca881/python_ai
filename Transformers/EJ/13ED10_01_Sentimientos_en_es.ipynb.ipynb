{
 "cells": [
  {
   "cell_type": "code",
   "execution_count": 1,
   "metadata": {},
   "outputs": [
    {
     "name": "stderr",
     "output_type": "stream",
     "text": [
      "c:\\Users\\fundacion\\anaconda3\\envs\\transformers\\Lib\\site-packages\\tqdm\\auto.py:21: TqdmWarning: IProgress not found. Please update jupyter and ipywidgets. See https://ipywidgets.readthedocs.io/en/stable/user_install.html\n",
      "  from .autonotebook import tqdm as notebook_tqdm\n",
      "No model was supplied, defaulted to distilbert/distilbert-base-uncased-finetuned-sst-2-english and revision 714eb0f (https://huggingface.co/distilbert/distilbert-base-uncased-finetuned-sst-2-english).\n",
      "Using a pipeline without specifying a model name and revision in production is not recommended.\n",
      "c:\\Users\\fundacion\\anaconda3\\envs\\transformers\\Lib\\site-packages\\huggingface_hub\\file_download.py:139: UserWarning: `huggingface_hub` cache-system uses symlinks by default to efficiently store duplicated files but your machine does not support them in C:\\Users\\fundacion\\.cache\\huggingface\\hub\\models--distilbert--distilbert-base-uncased-finetuned-sst-2-english. Caching files will still work but in a degraded version that might require more space on your disk. This warning can be disabled by setting the `HF_HUB_DISABLE_SYMLINKS_WARNING` environment variable. For more details, see https://huggingface.co/docs/huggingface_hub/how-to-cache#limitations.\n",
      "To support symlinks on Windows, you either need to activate Developer Mode or to run Python as an administrator. In order to activate developer mode, see this article: https://docs.microsoft.com/en-us/windows/apps/get-started/enable-your-device-for-development\n",
      "  warnings.warn(message)\n"
     ]
    },
    {
     "name": "stdout",
     "output_type": "stream",
     "text": [
      "Texto: I love this movie! It's fantastic.\n",
      "Sentimiento: POSITIVE, Confianza: 1.00\n",
      "--------------------------------------------------\n",
      "Texto: I hate waiting in lines. It's the worst.\n",
      "Sentimiento: NEGATIVE, Confianza: 1.00\n",
      "--------------------------------------------------\n",
      "Texto: The food was okay, but the service was terrible.\n",
      "Sentimiento: NEGATIVE, Confianza: 0.99\n",
      "--------------------------------------------------\n",
      "Texto: What a wonderful experience, I'll come back for sure!\n",
      "Sentimiento: POSITIVE, Confianza: 1.00\n",
      "--------------------------------------------------\n"
     ]
    }
   ],
   "source": [
    "from transformers import pipeline\n",
    "\n",
    "# Cargar el pipeline de análisis de sentimiento\n",
    "sentiment_pipeline = pipeline(\"sentiment-analysis\")\n",
    "\n",
    "# Ejemplos de texto para analizar\n",
    "texts = [\n",
    "    \"I love this movie! It's fantastic.\",\n",
    "    \"I hate waiting in lines. It's the worst.\",\n",
    "    \"The food was okay, but the service was terrible.\",\n",
    "    \"What a wonderful experience, I'll come back for sure!\"\n",
    "]\n",
    "\n",
    "# Analizar el sentimiento de cada texto\n",
    "for text in texts:\n",
    "    result = sentiment_pipeline(text)\n",
    "    print(f\"Texto: {text}\")\n",
    "    print(f\"Sentimiento: {result[0]['label']}, Confianza: {result[0]['score']:.2f}\")\n",
    "    print(\"-\" * 50)\n"
   ]
  },
  {
   "cell_type": "code",
   "execution_count": 2,
   "metadata": {},
   "outputs": [
    {
     "name": "stdout",
     "output_type": "stream",
     "text": [
      "Texto: Me encanta este producto, es maravilloso.\n",
      "Sentimiento: 5 stars, Confianza: 0.93\n",
      "--------------------------------------------------\n",
      "Texto: La experiencia fue terrible, no lo recomiendo.\n",
      "Sentimiento: 1 star, Confianza: 0.77\n",
      "--------------------------------------------------\n",
      "Texto: La comida estaba bien, pero el servicio fue pésimo.\n",
      "Sentimiento: 2 stars, Confianza: 0.42\n",
      "--------------------------------------------------\n",
      "Texto: Qué experiencia tan increíble, volveré pronto.\n",
      "Sentimiento: 5 stars, Confianza: 0.86\n",
      "--------------------------------------------------\n"
     ]
    }
   ],
   "source": [
    "from transformers import pipeline\n",
    "\n",
    "# Cargar el pipeline de análisis de sentimiento con un modelo preentrenado que soporta español\n",
    "sentiment_pipeline = pipeline(\"sentiment-analysis\", model=\"nlptown/bert-base-multilingual-uncased-sentiment\")\n",
    "\n",
    "# Ejemplos de texto en español para analizar\n",
    "texts = [\n",
    "    \"Me encanta este producto, es maravilloso.\",\n",
    "    \"La experiencia fue terrible, no lo recomiendo.\",\n",
    "    \"La comida estaba bien, pero el servicio fue pésimo.\",\n",
    "    \"Qué experiencia tan increíble, volveré pronto.\"\n",
    "]\n",
    "\n",
    "# Analizar el sentimiento de cada texto\n",
    "for text in texts:\n",
    "    result = sentiment_pipeline(text)\n",
    "    print(f\"Texto: {text}\")\n",
    "    print(f\"Sentimiento: {result[0]['label']}, Confianza: {result[0]['score']:.2f}\")\n",
    "    print(\"-\" * 50)\n"
   ]
  }
 ],
 "metadata": {
  "kernelspec": {
   "display_name": "transformers",
   "language": "python",
   "name": "python3"
  },
  "language_info": {
   "codemirror_mode": {
    "name": "ipython",
    "version": 3
   },
   "file_extension": ".py",
   "mimetype": "text/x-python",
   "name": "python",
   "nbconvert_exporter": "python",
   "pygments_lexer": "ipython3",
   "version": "3.12.7"
  }
 },
 "nbformat": 4,
 "nbformat_minor": 2
}
