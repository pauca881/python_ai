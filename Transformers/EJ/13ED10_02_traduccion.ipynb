{
 "cells": [
  {
   "cell_type": "code",
   "execution_count": 2,
   "metadata": {},
   "outputs": [
    {
     "name": "stdout",
     "output_type": "stream",
     "text": [
      "Texto original: Hola, ¿cómo estás?\n",
      "Traducción: Hey, how are you?\n",
      "--------------------------------------------------\n",
      "Texto original: Este producto es excelente, lo recomendaré a todos mis amigos.\n",
      "Traducción: This product is excellent, I will recommend it to all my friends.\n",
      "--------------------------------------------------\n",
      "Texto original: La programación en Python es muy divertida y útil.\n",
      "Traducción: Python programming is very fun and useful.\n",
      "--------------------------------------------------\n",
      "Texto original: El cielo está despejado y las estrellas son brillantes esta noche.\n",
      "Traducción: The sky is clear and the stars are bright tonight.\n",
      "--------------------------------------------------\n"
     ]
    }
   ],
   "source": [
    "from transformers import pipeline\n",
    "\n",
    "# Cargar el pipeline de traducción con un modelo preentrenado para traducir de español a inglés\n",
    "translator = pipeline(\"translation\", model=\"Helsinki-NLP/opus-mt-es-en\")\n",
    "\n",
    "# Textos en español para traducir\n",
    "texts = [\n",
    "    \"Hola, ¿cómo estás?\",\n",
    "    \"Este producto es excelente, lo recomendaré a todos mis amigos.\",\n",
    "    \"La programación en Python es muy divertida y útil.\",\n",
    "    \"El cielo está despejado y las estrellas son brillantes esta noche.\"\n",
    "]\n",
    "\n",
    "# Traducir cada texto\n",
    "for text in texts:\n",
    "    translation = translator(text)\n",
    "    print(f\"Texto original: {text}\")\n",
    "    print(f\"Traducción: {translation[0]['translation_text']}\")\n",
    "    print(\"-\" * 50)\n"
   ]
  },
  {
   "cell_type": "code",
   "execution_count": 1,
   "metadata": {},
   "outputs": [
    {
     "name": "stderr",
     "output_type": "stream",
     "text": [
      "c:\\Users\\fundacion\\anaconda3\\envs\\transformers\\Lib\\site-packages\\tqdm\\auto.py:21: TqdmWarning: IProgress not found. Please update jupyter and ipywidgets. See https://ipywidgets.readthedocs.io/en/stable/user_install.html\n",
      "  from .autonotebook import tqdm as notebook_tqdm\n",
      "c:\\Users\\fundacion\\anaconda3\\envs\\transformers\\Lib\\site-packages\\huggingface_hub\\file_download.py:139: UserWarning: `huggingface_hub` cache-system uses symlinks by default to efficiently store duplicated files but your machine does not support them in C:\\Users\\fundacion\\.cache\\huggingface\\hub\\models--Helsinki-NLP--opus-mt-es-en. Caching files will still work but in a degraded version that might require more space on your disk. This warning can be disabled by setting the `HF_HUB_DISABLE_SYMLINKS_WARNING` environment variable. For more details, see https://huggingface.co/docs/huggingface_hub/how-to-cache#limitations.\n",
      "To support symlinks on Windows, you either need to activate Developer Mode or to run Python as an administrator. In order to activate developer mode, see this article: https://docs.microsoft.com/en-us/windows/apps/get-started/enable-your-device-for-development\n",
      "  warnings.warn(message)\n",
      "c:\\Users\\fundacion\\anaconda3\\envs\\transformers\\Lib\\site-packages\\transformers\\models\\marian\\tokenization_marian.py:175: UserWarning: Recommended: pip install sacremoses.\n",
      "  warnings.warn(\"Recommended: pip install sacremoses.\")\n"
     ]
    },
    {
     "name": "stdout",
     "output_type": "stream",
     "text": [
      "[{'translation_text': 'Hey, how are you?'}]\n",
      "[{'translation_text': 'Programming in Python is fun.'}]\n"
     ]
    }
   ],
   "source": [
    "from transformers import pipeline\n",
    "\n",
    "# Cargar el pipeline de traducción\n",
    "translator = pipeline(\"translation\", model=\"Helsinki-NLP/opus-mt-es-en\")\n",
    "\n",
    "texts = [\"Hola, ¿cómo estás?\", \"La programación en Python es divertida.\"]\n",
    "for text in texts:\n",
    "    print(translator(text))\n"
   ]
  },
  {
   "cell_type": "code",
   "execution_count": 4,
   "metadata": {},
   "outputs": [
    {
     "name": "stdout",
     "output_type": "stream",
     "text": [
      "SentencePiece está instalado correctamente.\n"
     ]
    }
   ],
   "source": [
    "import sentencepiece\n",
    "print(\"SentencePiece está instalado correctamente.\")\n"
   ]
  }
 ],
 "metadata": {
  "kernelspec": {
   "display_name": "transformers",
   "language": "python",
   "name": "python3"
  },
  "language_info": {
   "codemirror_mode": {
    "name": "ipython",
    "version": 3
   },
   "file_extension": ".py",
   "mimetype": "text/x-python",
   "name": "python",
   "nbconvert_exporter": "python",
   "pygments_lexer": "ipython3",
   "version": "3.12.7"
  }
 },
 "nbformat": 4,
 "nbformat_minor": 2
}
