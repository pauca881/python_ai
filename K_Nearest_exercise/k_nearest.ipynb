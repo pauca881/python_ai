{
 "cells": [
  {
   "cell_type": "code",
   "execution_count": null,
   "metadata": {},
   "outputs": [],
   "source": [
    "# KNN (K-Nearest Neighbors) es un algoritmo de clasificación muy intuitivo.\n",
    "\n",
    "#Imagina que tienes un conjunto de datos con varias características, como si fueran puntos en un gráfico. \n",
    "# Cada punto pertenece a una clase o categoría, como \"perro\" o \"gato\".\n",
    "\n",
    "# Entrenamiento:\n",
    "# El modelo KNN no \"aprende\" en el sentido tradicional (como en otros modelos de machine learning), \n",
    "# sino que guarda todos los datos de entrenamiento, solo guarda las posiciones de los puntos en el espacio.\n",
    "\n",
    "# ------------- EJEMPLO:\n",
    "\n",
    "#Tenemos un grupo de frutas (manzanas y naranjas) en un gráfico, \n",
    "#y la característica que uso para clasificarlas es el peso y el color.\n",
    "\n",
    "#Si tienes una nueva fruta con un peso y color similares a una manzana, KNN buscará las frutas más cercanas en el gráfico.\n",
    "#Si la mayoría de las frutas cercanas son manzanas, entonces clasificará la nueva fruta como manzana.\n"
   ]
  },
  {
   "cell_type": "code",
   "execution_count": null,
   "metadata": {},
   "outputs": [],
   "source": [
    "# 1. Cargamos y preprocesamos los datos\n",
    "import pandas as pd\n",
    "\n",
    "# Cargar el archivo CSV (ejemplo con 1000 clientes)\n",
    "df = pd.read_csv(\"telecom_data_1000.csv\")\n",
    "\n",
    "# Ver las primeras filas del DataFrame\n",
    "print(df.head())"
   ]
  },
  {
   "cell_type": "code",
   "execution_count": 4,
   "metadata": {},
   "outputs": [
    {
     "name": "stdout",
     "output_type": "stream",
     "text": [
      "Age           0\n",
      "Gender        0\n",
      "TotalCalls    0\n",
      "TotalUsage    0\n",
      "Churn         0\n",
      "dtype: int64\n",
      "              Age      Gender  TotalCalls   TotalUsage       Churn\n",
      "count  100.000000  100.000000  100.000000   100.000000  100.000000\n",
      "mean    43.350000    0.400000  117.820000  2761.512721    0.520000\n",
      "std     14.904663    0.492366   54.359332  1439.601284    0.502117\n",
      "min     19.000000    0.000000    1.000000    25.307919    0.000000\n",
      "25%     31.750000    0.000000   80.750000  1556.518634    0.000000\n",
      "50%     42.000000    0.000000  126.000000  3053.590716    1.000000\n",
      "75%     57.000000    1.000000  159.250000  4005.308365    1.000000\n",
      "max     69.000000    1.000000  199.000000  4950.269251    1.000000\n",
      "[0 1]\n"
     ]
    }
   ],
   "source": [
    "# 2. Explorar y Preparar los Datos\n",
    "#Es importante asegurarse de que no haya valores nulos o inconsistencias en los datos.\n",
    "\n",
    "# Revisar valores nulos\n",
    "print(df.isnull().sum())\n",
    "\n",
    "# Revisar estadísticas descriptivas de las variables numéricas\n",
    "print(df.describe())\n",
    "\n",
    "# Verificar si las columnas tienen valores no deseados\n",
    "print(df['Gender'].unique())"
   ]
  },
  {
   "cell_type": "code",
   "execution_count": null,
   "metadata": {},
   "outputs": [],
   "source": [
    "# 3. División de Datos: Entrenamiento y Prueba\n",
    "# Utilizamos un 70% de los datos para entrenamiento y un 30% para prueba. Para esto, podemos usar train_test_split de scikit-learn.\n",
    "\n",
    "from sklearn.model_selection import train_test_split\n",
    "\n",
    "# Dividir el conjunto de datos en características (X) y objetivo (y)\n",
    "X = df[['Age', 'Gender', 'TotalCalls', 'TotalUsage']]\n",
    "y = df['Churn']\n",
    "\n",
    "# Dividir en entrenamiento (70%) y prueba (30%)\n",
    "X_train, X_test, y_train, y_test = train_test_split(X, y, test_size=0.3, random_state=42)"
   ]
  },
  {
   "cell_type": "code",
   "execution_count": null,
   "metadata": {},
   "outputs": [],
   "source": [
    "# 4. Escalar las Características\n",
    "# El modelo KNN es sensible a la escala de las características, por lo que es necesario normalizar o estandarizar los datos. \n",
    "# Usaremos StandardScaler de scikit-learn para estandarizar las características.\n",
    "\n",
    "from sklearn.preprocessing import StandardScaler\n",
    "\n",
    "# Estandarizar las características\n",
    "scaler = StandardScaler()\n",
    "X_train_scaled = scaler.fit_transform(X_train)\n",
    "X_test_scaled = scaler.transform(X_test)\n",
    "\n"
   ]
  },
  {
   "cell_type": "code",
   "execution_count": null,
   "metadata": {},
   "outputs": [],
   "source": [
    "# 5. Entrenar el Modelo KNN\n",
    "# Ahora entrenamos el modelo KNN utilizando KNeighborsClassifier.\n",
    "\n",
    "from sklearn.neighbors import KNeighborsClassifier\n",
    "\n",
    "# Crear el modelo KNN con un valor inicial de k=5\n",
    "knn = KNeighborsClassifier(n_neighbors=5)\n",
    "#Si de los 5 puntos más cercanos (K=5), 3 son perros y 2 son gatos, el modelo clasificará al nuevo punto como perro.\n",
    "\n",
    "# Entrenar el modelo\n",
    "knn.fit(X_train_scaled, y_train)"
   ]
  },
  {
   "cell_type": "code",
   "execution_count": null,
   "metadata": {},
   "outputs": [],
   "source": [
    "# 6. Evaluar modelo\n",
    "# Evaluamos su desempeño con matriz de confusión y puntaj de precisión\n",
    "\n",
    "from sklearn.metrics import confusion_matrix, classification_report, accuracy_score\n",
    "\n",
    "\n",
    "# Hacer las predicciones con el modelo entrenado\n",
    "y_pred = knn.predict(X_test_scaled)\n",
    "\n",
    "# Matriz de Confusión\n",
    "cm = confusion_matrix(y_test, y_pred)\n",
    "print(\"Matriz de Confusión:\")\n",
    "print(cm)\n",
    "\n",
    "# Puntaje de Precisión\n",
    "accuracy = accuracy_score(y_test, y_pred)\n",
    "print(f'\\nPrecisión del modelo: {accuracy:.4f}')\n",
    "\n",
    "\n",
    "# Reporte de clasificación (precisión, recall, f1-score)\n",
    "# print(\"\\nReporte de Clasificación:\")\n",
    "# print(classification_report(y_test, y_pred))"
   ]
  }
 ],
 "metadata": {
  "kernelspec": {
   "display_name": "base",
   "language": "python",
   "name": "python3"
  },
  "language_info": {
   "codemirror_mode": {
    "name": "ipython",
    "version": 3
   },
   "file_extension": ".py",
   "mimetype": "text/x-python",
   "name": "python",
   "nbconvert_exporter": "python",
   "pygments_lexer": "ipython3",
   "version": "3.12.4"
  }
 },
 "nbformat": 4,
 "nbformat_minor": 2
}
