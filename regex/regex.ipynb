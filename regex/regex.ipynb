{
 "cells": [
  {
   "cell_type": "code",
   "execution_count": 2,
   "metadata": {},
   "outputs": [
    {
     "name": "stdout",
     "output_type": "stream",
     "text": [
      "29\n"
     ]
    }
   ],
   "source": [
    "import re\n",
    "resultado = re.search(r'\\d+', 'La edad es 29 años y 4 mas')\n",
    "print(resultado.group())"
   ]
  },
  {
   "cell_type": "code",
   "execution_count": 4,
   "metadata": {},
   "outputs": [
    {
     "name": "stdout",
     "output_type": "stream",
     "text": [
      "29\n"
     ]
    }
   ],
   "source": [
    "resultado = re.match(r'\\d+', '29 años')\n",
    "print(resultado.group())"
   ]
  },
  {
   "cell_type": "code",
   "execution_count": 5,
   "metadata": {},
   "outputs": [
    {
     "name": "stdout",
     "output_type": "stream",
     "text": [
      "['Este', 'es', 'un', 'ejemplo']\n"
     ]
    }
   ],
   "source": [
    "resultado = re.split(r'\\s+', 'Este es un ejemplo')\n",
    "print(resultado)"
   ]
  },
  {
   "cell_type": "code",
   "execution_count": null,
   "metadata": {},
   "outputs": [],
   "source": [
    "#Expressiones regulares egex con Regulex\n",
    "##txt with:\n",
    "# 123\n",
    "# 234\n",
    "# 123456\n",
    "# 1234567\n",
    "# abcdef\n",
    "# abc\n",
    "\n",
    "# Encuentra las líneas que contienen exactamente 123:\n",
    "# ^123$\n",
    "\n",
    "# Encuentra todas las líneas con exactamente 3 dígitos:\n",
    "# ^\\d{3}$\n",
    "\n",
    "# Encuentra líneas con solo letras minúsculas:\n",
    "# ^[a-z]+$\n",
    "\n"
   ]
  },
  {
   "cell_type": "code",
   "execution_count": null,
   "metadata": {},
   "outputs": [],
   "source": [
    "#SOLUTIONS\n",
    "#https://gist.github.com/bsodmike/5784361"
   ]
  }
 ],
 "metadata": {
  "kernelspec": {
   "display_name": "base",
   "language": "python",
   "name": "python3"
  },
  "language_info": {
   "codemirror_mode": {
    "name": "ipython",
    "version": 3
   },
   "file_extension": ".py",
   "mimetype": "text/x-python",
   "name": "python",
   "nbconvert_exporter": "python",
   "pygments_lexer": "ipython3",
   "version": "3.12.4"
  }
 },
 "nbformat": 4,
 "nbformat_minor": 2
}
