{
 "cells": [
  {
   "cell_type": "code",
   "execution_count": 13,
   "metadata": {},
   "outputs": [
    {
     "name": "stdout",
     "output_type": "stream",
     "text": [
      "['Juan,8.0,8.5,7.8,9.2,8.88\\n', 'Ana,9.2,8.8,9.1\\n', 'Oscar,7.5,8.5,9.0\\n', 'Pauk,4.0,5.0,6.0,7.0,8.0\\n', '\\n']\n"
     ]
    }
   ],
   "source": [
    "#NOTA PARA EL PROFESOR\n",
    "#Pau y Jonathan\n",
    "#Los ejercicios se encuentran en los 3 últimos bloques \n",
    "#Bloque 1 Gestión con Tuplas\n",
    "#Bloque 2 Diccionarios\n",
    "#Bloque 3 JSON\n",
    "#La gestión de excepciones ya se encunetra integrada en todos los ejercicios/Bloques\n",
    "f=open('text.txt')\n",
    "print(f.readlines())"
   ]
  },
  {
   "cell_type": "code",
   "execution_count": 11,
   "metadata": {},
   "outputs": [],
   "source": [
    "f=open('text.txt', 'w')\n",
    "random_data= (\"hahaha\", \"hehehe\", \"hihihih\", \"hohohoho\")\n",
    "\n",
    "for code in random_data:\n",
    "    f.write(code+'\\n')\n",
    "f.close()"
   ]
  },
  {
   "cell_type": "code",
   "execution_count": 12,
   "metadata": {},
   "outputs": [],
   "source": [
    "with open('text.txt', 'r+') as f:\n",
    "    f.write('added text')"
   ]
  },
  {
   "cell_type": "code",
   "execution_count": 13,
   "metadata": {},
   "outputs": [
    {
     "name": "stdout",
     "output_type": "stream",
     "text": [
      "38124\n"
     ]
    }
   ],
   "source": [
    "with open('C:/Users/pcpau/Downloads/quijote.txt', 'r', encoding='utf-8') as archivo:\n",
    "    contenido = archivo.read()\n",
    "\n",
    "print(numero_palabras := len(set(contenido.lower().split())))"
   ]
  },
  {
   "cell_type": "code",
   "execution_count": 14,
   "metadata": {},
   "outputs": [
    {
     "name": "stdout",
     "output_type": "stream",
     "text": [
      "!\"#$%&'()*+,-./:;<=>?@[\\]^_`{|}~\n"
     ]
    }
   ],
   "source": [
    "import string\n",
    "print(string.punctuation)"
   ]
  },
  {
   "cell_type": "code",
   "execution_count": 15,
   "metadata": {},
   "outputs": [
    {
     "name": "stdout",
     "output_type": "stream",
     "text": [
      "24466\n"
     ]
    }
   ],
   "source": [
    "dicc = str.maketrans('','', string.punctuation)\n",
    "texto_sin_puntuacion = (contenido.translate(dicc)).lower()\n",
    "print(len(set(texto_sin_puntuacion.split())))"
   ]
  },
  {
   "cell_type": "code",
   "execution_count": 16,
   "metadata": {},
   "outputs": [
    {
     "data": {
      "text/plain": [
       "{'dulcinea': 289, 'sancho': 2176, 'quijote': 2249, 'rocinante': 207}"
      ]
     },
     "execution_count": 16,
     "metadata": {},
     "output_type": "execute_result"
    }
   ],
   "source": [
    "dic2 = {word: texto_sin_puntuacion.count(word) for word in ['dulcinea', 'sancho', 'quijote', 'rocinante']}\n",
    "dic2"
   ]
  },
  {
   "cell_type": "code",
   "execution_count": 30,
   "metadata": {},
   "outputs": [
    {
     "name": "stdout",
     "output_type": "stream",
     "text": [
      "Bienvenido a la gestión de estudiantes: \n",
      "1- Lista de estudiantes: \n",
      "2- Añadir nota a estudiante: \n",
      "3- Guardar cambios \n",
      "4- Salir\n",
      "Estudiante Pauk agregado con éxito.\n",
      "Bienvenido a la gestión de estudiantes: \n",
      "1- Lista de estudiantes: \n",
      "2- Añadir nota a estudiante: \n",
      "3- Guardar cambios \n",
      "4- Salir\n",
      "Saliendo del programa\n"
     ]
    }
   ],
   "source": [
    "#Ejercicio Gestión Estudiantes PARTE 1 + Excepción de errores\n",
    "\n",
    "def show_menu():\n",
    "    print('Bienvenido a la gestión de estudiantes: ')\n",
    "    print('1- Lista de estudiantes: ')\n",
    "    print('2- Añadir nota a estudiante: ')\n",
    "    print('3- Guardar cambios ')    \n",
    "    print('4- Salir')\n",
    "\n",
    "def opcion_1():\n",
    "    # f=open('text.txt', 'r')\n",
    "    # print(f.read())\n",
    "\n",
    "    try:\n",
    "    \n",
    "        nombre_archivo = 'text.txt'\n",
    "        estudiantes = []\n",
    "        with open(nombre_archivo, 'r') as archivo:\n",
    "            for linea in archivo:\n",
    "                datos = linea.strip().split(',')\n",
    "                nombre = datos[0]\n",
    "                notas = list(map(float, datos[1:]))\n",
    "                estudiantes.append((nombre, tuple(notas)))\n",
    "        estudiantes_tupla = tuple(estudiantes)\n",
    "        print(estudiantes_tupla)\n",
    "\n",
    "    except  FileNotFoundError:\n",
    "        print('ERROR: No se encuentra el archivo') \n",
    "\n",
    "\n",
    "\n",
    "def opcion_2():\n",
    "    nombre_archivo = 'text.txt'\n",
    "    \n",
    "    nombre = input(\"Nombre del estudiante: \")\n",
    "    notas = []\n",
    "    for i in range(1, 6):\n",
    "        while True:\n",
    "            try:\n",
    "                nota = float(input(f\"Ingrese la nota {i}: \"))\n",
    "                notas.append(nota)\n",
    "                break\n",
    "            except ValueError:\n",
    "                print(\"Has añadido un numero invalido, intenta de nuevo!\")\n",
    "    \n",
    "    # primer0oo convierto las notas a una cadena separada por comas\n",
    "    notas_str = ','.join(map(str, notas))\n",
    "    \n",
    "    # añado el nuevo estudiante en el archivo\n",
    "    #a de append\n",
    "    with open(nombre_archivo, 'a') as archivo:\n",
    "        archivo.write(f\"{nombre},{notas_str}\\n\")\n",
    "    \n",
    "    print(f\"Estudiante {nombre} agregado correctamente\")\n",
    "\n",
    "#No entiendo, si sólo al añadir los cambios ya se guarda todo correctamente?\n",
    "def opcion_3():\n",
    "    print(\"Estudiantes guardados correctamente\")\n",
    "\n",
    "def main():\n",
    "    while True:\n",
    "        show_menu()\n",
    "        try:    \n",
    "            opc = int(input('Escoge tu opción: '))\n",
    "        except ValueError:\n",
    "            print(\"Introduce numero valido\")\n",
    "            continue\n",
    "\n",
    "        if opc == 1:\n",
    "            opcion_1()\n",
    "        elif opc == 2:\n",
    "            opcion_2()\n",
    "        elif opc == 3:\n",
    "            opcion_3()\n",
    "        elif opc == 4:\n",
    "            print('Saliendo del programa')\n",
    "            break\n",
    "        else: print(\"Opcion no valida, porfavor elige una opción entre 1-4\")   \n",
    "\n",
    "\n",
    "main()  \n"
   ]
  },
  {
   "cell_type": "code",
   "execution_count": 6,
   "metadata": {},
   "outputs": [
    {
     "name": "stdout",
     "output_type": "stream",
     "text": [
      "Bienvenido a la gestión de estudiantes ( Diccionarios ): \n",
      "1- Lista de estudiantes: \n",
      "2- Añadir nota a estudiante: \n",
      "3- Guardar cambios \n",
      "4- Salir\n",
      "La nota de Oscar en matematicas ha sido actualizada a 7.0.\n",
      "Bienvenido a la gestión de estudiantes ( Diccionarios ): \n",
      "1- Lista de estudiantes: \n",
      "2- Añadir nota a estudiante: \n",
      "3- Guardar cambios \n",
      "4- Salir\n",
      "Saliendo del programa\n"
     ]
    }
   ],
   "source": [
    "#DONE\n",
    "#Ejercicio 2 + Excepción de errores\n",
    "\n",
    "def show_menu():\n",
    "    print('Bienvenido a la gestión de estudiantes ( Diccionarios ): ')\n",
    "    print('1- Lista de estudiantes: ')\n",
    "    print('2- Añadir nota a estudiante: ')\n",
    "    print('3- Guardar cambios ')    \n",
    "    print('4- Salir')\n",
    "\n",
    "def listar_estudiantes():\n",
    "\n",
    "    notas_diccionario = {}\n",
    "\n",
    "    with open(\"text2.txt\", 'r') as file:\n",
    "        for linea in file:\n",
    "\n",
    "            linea = linea.strip()\n",
    "            # aquí divido el nombre de las materias y las notas\n",
    "            partes = linea.split(',')\n",
    "            nombre = partes[0]  #[0] Es el nombre del estudiante\n",
    "        # primero creo el diccionario para las materias y sus notas\n",
    "            materias = {}\n",
    "            for materia_info in partes[1:]:\n",
    "            # separo la materia de la nota\n",
    "                materia, nota = materia_info.split(':')\n",
    "                materias[materia] = float(nota)  # Convertir nota a float\n",
    "        # y las meto  al diccionario principal\n",
    "            notas_diccionario[nombre] = materias\n",
    "\n",
    "# Mostrar el diccionario resultante\n",
    "    print(notas_diccionario)\n",
    "\n",
    "def añadir_nota():\n",
    "\n",
    "    with open('text2.txt', 'r') as file:\n",
    "        lineas = file.readlines()\n",
    "    \n",
    "    \n",
    "    diccionario = {}\n",
    "    for linea in lineas:\n",
    "        partes = linea.strip().split(',')\n",
    "        nombre = partes[0]\n",
    "        materias = partes[1:]\n",
    "        diccionario[nombre] = {m.split(':')[0]: float(m.split(':')[1]) for m in materias} #lista por comprension del profe oscar\n",
    "    \n",
    "    nombre = input(\"Introduce el nombre del estudiante: \").strip()\n",
    "    \n",
    "    if nombre not in diccionario:\n",
    "        print(\"El estudiante no está en el el fichero\")\n",
    "        return\n",
    "    \n",
    "    \n",
    "    materia = input(\"Introduce la materia (matematicas/ingles/ciencias): \").strip().lower()\n",
    "    \n",
    "    if materia not in diccionario[nombre]:\n",
    "        print(\"Materia no válida(matematicas/ingles/ciencias)\")\n",
    "        return\n",
    "    \n",
    "    try:\n",
    "        nueva_nota = float(input(\"Introduce la nueva nota: \"))\n",
    "    except ValueError:\n",
    "        print(\"La nota debe ser un número\")\n",
    "        return\n",
    "    \n",
    "    # actualizo la nota en el diccionario\n",
    "    diccionario[nombre][materia] = nueva_nota\n",
    "    \n",
    "    # escribo los datos en el archivo\n",
    "    with open('archivo', 'w') as file:\n",
    "        for nombre, materias in diccionario.items():\n",
    "            linea = f\"{nombre},\" + \",\".join(f\"{m}:{n}\" for m, n in materias.items()) + \"\\n\"\n",
    "            file.write(linea)\n",
    "    \n",
    "    print(f\"La nota de {nombre} en {materia} ha sido actualizada a {nueva_nota}.\")\n",
    "\n",
    "\n",
    "\n",
    "def main():\n",
    "    while True:\n",
    "        show_menu()\n",
    "        try:    \n",
    "            opc = int(input('Escoge tu opción: '))\n",
    "        except ValueError:\n",
    "            print(\"Introduce numero valido\")\n",
    "            continue\n",
    "        if opc == 1:\n",
    "            listar_estudiantes()\n",
    "        elif opc == 2:\n",
    "            añadir_nota()\n",
    "        elif opc == 4:\n",
    "            print('Saliendo del programa')\n",
    "            break\n",
    "        else: print(\"Opcion no valida, porfavor elige una opción entre 1-4\")   \n",
    "\n",
    "\n",
    "main()       "
   ]
  },
  {
   "cell_type": "code",
   "execution_count": null,
   "metadata": {},
   "outputs": [],
   "source": [
    "#TODO\n",
    "#Ejercicio 3 + Excepción de errores\n",
    "import json\n",
    "\n",
    "\n",
    "def generar_JSON():\n",
    "\n",
    "    notas_diccionario = {}\n",
    "\n",
    "    with open(\"text2.txt\", 'r') as file:\n",
    "        for linea in file:\n",
    "            linea = linea.strip()\n",
    "            partes = linea.split(',')\n",
    "            nombre = partes[0]\n",
    "\n",
    "            materias = {}\n",
    "            for materia_info in partes[1:]:\n",
    "                materia, nota = materia_info.split(':')\n",
    "                materias[materia]=float(nota)\n",
    "            notas_diccionario[nombre]=materias\n",
    "\n",
    "\n",
    "    print(notas_diccionario)\n",
    "\n",
    "    #EXCEPCION DE ERRORES\n",
    "    try:\n",
    "\n",
    "    #Generar JSON\n",
    "        with open('estudiantes.json', 'w') as file:\n",
    "            json.dump(notas_diccionario, file, indent=4)\n",
    "            #Indent es para que tenga una sangria de 4 espacios\n",
    "        \n",
    "        json_a_string = json.dumps(notas_diccionario, indent=4)\n",
    "        print(json_a_string)\n",
    "\n",
    "\n",
    "    except IOError:\n",
    "        print('ERROR: Ha habido un problema al crear el archivo')\n",
    "    except Exception as e:\n",
    "        print(f'ERROR: Ocurrió un problema inesperado - {e}')\n",
    "\n",
    "    \n",
    "\n",
    "    \n",
    "    \n",
    "\n",
    "\n",
    "def main():\n",
    "    while True:\n",
    "        show_menu()\n",
    "        try:    \n",
    "            opc = int(input('Escoge tu opción: '))\n",
    "        except ValueError:\n",
    "            print(\"Introduce numero valido\")\n",
    "            continue\n",
    "        if opc == 1:\n",
    "            generar_JSON()\n",
    "        elif opc == 4:\n",
    "            print('Saliendo del programa')\n",
    "            break\n",
    "        else: print(\"Opcion no valida, porfavor elige una opción entre 1-4\")\n",
    "\n",
    "\n",
    "def show_menu():\n",
    "    print('TXT to JSON converter')\n",
    "    print('1- Generar JSON')\n",
    "    print('4- Salir')   \n",
    " \n",
    "\n",
    "\n",
    "main()       \n",
    "    "
   ]
  }
 ],
 "metadata": {
  "kernelspec": {
   "display_name": "base",
   "language": "python",
   "name": "python3"
  },
  "language_info": {
   "codemirror_mode": {
    "name": "ipython",
    "version": 3
   },
   "file_extension": ".py",
   "mimetype": "text/x-python",
   "name": "python",
   "nbconvert_exporter": "python",
   "pygments_lexer": "ipython3",
   "version": "3.12.4"
  }
 },
 "nbformat": 4,
 "nbformat_minor": 2
}
