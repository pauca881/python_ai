{
 "cells": [
  {
   "cell_type": "code",
   "execution_count": null,
   "metadata": {},
   "outputs": [],
   "source": [
    "#Don't execute, it's a infinite loop\n",
    "value = 1\n",
    "while value <= 4:\n",
    "    print(value)\n",
    "    "
   ]
  },
  {
   "cell_type": "code",
   "execution_count": 1,
   "metadata": {},
   "outputs": [
    {
     "name": "stdout",
     "output_type": "stream",
     "text": [
      "0\n",
      "1\n",
      "2\n",
      "3\n",
      "4\n"
     ]
    }
   ],
   "source": [
    "for i in range(5):\n",
    "    print(i)"
   ]
  },
  {
   "cell_type": "code",
   "execution_count": 2,
   "metadata": {},
   "outputs": [
    {
     "name": "stdout",
     "output_type": "stream",
     "text": [
      "18\n"
     ]
    }
   ],
   "source": [
    "num = 20\n",
    "while num >= 1:\n",
    "    if num % 3 == 0:\n",
    "        print(num)\n",
    "        break\n",
    "    num -= 1"
   ]
  },
  {
   "cell_type": "code",
   "execution_count": 3,
   "metadata": {},
   "outputs": [
    {
     "name": "stdout",
     "output_type": "stream",
     "text": [
      "p\n",
      "y\n",
      "t\n",
      "h\n",
      "o\n",
      "n\n"
     ]
    }
   ],
   "source": [
    "word = 'python'\n",
    "\n",
    "for letter in word:\n",
    "    print(letter)"
   ]
  },
  {
   "cell_type": "code",
   "execution_count": 7,
   "metadata": {},
   "outputs": [
    {
     "name": "stdout",
     "output_type": "stream",
     "text": [
      "p\n",
      "y\n",
      "t\n"
     ]
    }
   ],
   "source": [
    "word = 'python'\n",
    "for letter in word:\n",
    "    print(letter)\n",
    "    if letter == 't':\n",
    "        break\n"
   ]
  },
  {
   "cell_type": "code",
   "execution_count": 6,
   "metadata": {},
   "outputs": [
    {
     "name": "stdout",
     "output_type": "stream",
     "text": [
      "6\n",
      "9\n",
      "12\n"
     ]
    }
   ],
   "source": [
    "for i in range(6,15,3):\n",
    "    print(i)\n",
    "\n",
    "def range (start, end, step = 1):"
   ]
  },
  {
   "cell_type": "code",
   "execution_count": 26,
   "metadata": {},
   "outputs": [
    {
     "name": "stdout",
     "output_type": "stream",
     "text": [
      "10\n",
      "5\n",
      "0\n",
      "-5\n",
      "-10\n",
      "-15\n"
     ]
    }
   ],
   "source": [
    "          #start, end, step\n",
    "for i in range(10, -20, -2):\n",
    "    print(i)"
   ]
  },
  {
   "cell_type": "code",
   "execution_count": null,
   "metadata": {},
   "outputs": [],
   "source": [
    "#Bucles anidadoss ( for dentro de un for )\n",
    "#Starts in 3 ends in 10\n",
    "for i in range(3, 10):\n",
    "    print(i)"
   ]
  },
  {
   "cell_type": "code",
   "execution_count": 10,
   "metadata": {},
   "outputs": [
    {
     "name": "stdout",
     "output_type": "stream",
     "text": [
      "5 x 1 = 5\n",
      "5 x 2 = 10\n",
      "5 x 3 = 15\n",
      "5 x 4 = 20\n",
      "5 x 5 = 25\n",
      "5 x 6 = 30\n",
      "5 x 7 = 35\n",
      "5 x 8 = 40\n",
      "5 x 9 = 45\n"
     ]
    }
   ],
   "source": [
    "tabla = 5\n",
    "for i in range(1,10):\n",
    "    print (f'{tabla} x {i} = {tabla*i}')"
   ]
  },
  {
   "cell_type": "code",
   "execution_count": 13,
   "metadata": {},
   "outputs": [
    {
     "name": "stdout",
     "output_type": "stream",
     "text": [
      "0 x 0 = 0\n",
      "0 x 1 = 0\n",
      "0 x 2 = 0\n",
      "0 x 3 = 0\n",
      "0 x 4 = 0\n",
      "0 x 5 = 0\n",
      "0 x 6 = 0\n",
      "0 x 7 = 0\n",
      "0 x 8 = 0\n",
      "0 x 9 = 0\n",
      "0 x 10 = 0\n"
     ]
    }
   ],
   "source": [
    "y = 0\n",
    "x = 0\n",
    "while x <= 10:\n",
    "    while y <= 10:\n",
    "        print(f'{x} x {y} = {x*y}')\n",
    "        y += 1\n",
    "    x += 1"
   ]
  },
  {
   "cell_type": "code",
   "execution_count": 17,
   "metadata": {},
   "outputs": [
    {
     "name": "stdout",
     "output_type": "stream",
     "text": [
      "    *\n",
      "   ***\n",
      "  *****\n",
      " *******\n",
      "*********\n",
      " *******\n",
      "  *****\n",
      "   ***\n",
      "    *\n"
     ]
    }
   ],
   "source": [
    "#GPT\n",
    "n = 5\n",
    "\n",
    "# Parte superior del rombo\n",
    "for i in range(n):\n",
    "    print(' ' * (n - i - 1) + '*' * (2 * i + 1))\n",
    "\n",
    "# Parte inferior del rombo\n",
    "for i in range(n-2, -1, -1):\n",
    "    print(' ' * (n - i - 1) + '*' * (2 * i + 1))\n",
    "\n",
    "\n"
   ]
  },
  {
   "cell_type": "code",
   "execution_count": 19,
   "metadata": {},
   "outputs": [
    {
     "name": "stdout",
     "output_type": "stream",
     "text": [
      "         \n",
      "        **\n",
      "       ****\n",
      "      ******\n",
      "     ********\n",
      "    **********\n",
      "   ************\n",
      "  **************\n",
      " ****************\n",
      "******************\n",
      " ****************\n",
      "  **************\n",
      "   ************\n",
      "    **********\n",
      "     ********\n",
      "      ******\n",
      "       ****\n",
      "        **\n",
      "         \n"
     ]
    }
   ],
   "source": [
    "n = 10\n",
    "for i in range(1,2 * n):\n",
    "    espacios = abs(n-i)\n",
    "    estrellas = 2 * ( n-espacios-1)\n",
    "    print(' ' * espacios+ '*' * estrellas)"
   ]
  },
  {
   "cell_type": "code",
   "execution_count": 18,
   "metadata": {},
   "outputs": [
    {
     "name": "stdout",
     "output_type": "stream",
     "text": [
      "10\n",
      "5\n"
     ]
    }
   ],
   "source": [
    "a = 5\n",
    "b = 10\n",
    "\n",
    "a, b = b, a\n",
    "print(a)\n",
    "print(b)\n"
   ]
  },
  {
   "cell_type": "code",
   "execution_count": 20,
   "metadata": {},
   "outputs": [
    {
     "name": "stdout",
     "output_type": "stream",
     "text": [
      "a: 1, b: 2, c: 3\n",
      "a: 3, b: 4, c: 5\n",
      "a: 5, b: 6, c: 7\n"
     ]
    }
   ],
   "source": [
    "tuplas = [(1,2,3), (3,4,5), (5,6,7)]\n",
    "\n",
    "for a, b, c in tuplas:\n",
    "    print(f\"a: {a}, b: {b}, c: {c}\")"
   ]
  },
  {
   "cell_type": "code",
   "execution_count": 28,
   "metadata": {},
   "outputs": [
    {
     "name": "stdout",
     "output_type": "stream",
     "text": [
      "Indice 0, Valor uno\n",
      "Indice 1, Valor dos\n",
      "Indice 2, Valor tres\n"
     ]
    }
   ],
   "source": [
    "#Enumerate permite añadir un indice al valor\n",
    "lista = [ 'uno', 'dos', 'tres']\n",
    "for index, valor in enumerate(lista):\n",
    "    print(f\"Indice {index}, Valor {valor}\")"
   ]
  },
  {
   "cell_type": "code",
   "execution_count": 3,
   "metadata": {},
   "outputs": [
    {
     "name": "stdout",
     "output_type": "stream",
     "text": [
      "Heyyy\n",
      "Heyyy\n",
      "Heyyy\n",
      "Heyyy\n",
      "Heyyy\n",
      "Heyyy\n",
      "Heyyy\n",
      "Heyyy\n",
      "Heyyy\n",
      "Heyyy\n"
     ]
    }
   ],
   "source": [
    "#Ejercicio 1 Escribir un programa que pida al usuario una palabra y la muestre por pantalla 10 veces.\n",
    "\n",
    "answer = str(input('Write a word and i will repeat it 10 times: '))\n",
    "for _ in range(10):\n",
    "    print(answer)"
   ]
  },
  {
   "cell_type": "code",
   "execution_count": 5,
   "metadata": {},
   "outputs": [
    {
     "name": "stdout",
     "output_type": "stream",
     "text": [
      "8\n",
      "7\n",
      "6\n",
      "5\n",
      "4\n",
      "3\n",
      "2\n",
      "1\n"
     ]
    }
   ],
   "source": [
    "# Ejercicio 2\n",
    "# Escribir un programa que pregunte al usuario su edad y muestre por pantalla todos los\n",
    "# años que ha cumplido (desde 1 hasta su edad).\n",
    "\n",
    "age = int(input('Write your age and I will make a reverse count'))\n",
    "for i in range(age, 0, -1):\n",
    "    print(i)"
   ]
  },
  {
   "cell_type": "code",
   "execution_count": 10,
   "metadata": {},
   "outputs": [
    {
     "name": "stdout",
     "output_type": "stream",
     "text": [
      "1, 3, 5, 7, 9, "
     ]
    }
   ],
   "source": [
    "# Ejercicio 3\n",
    "# Escribir un programa que pida al usuario un número entero positivo y muestre por\n",
    "# pantalla todos los números impares desde 1 hasta ese número separados por comas.\n",
    "int_num = int(input('Input an integer number: '))\n",
    "for i in range(1, int_num, 2):\n",
    "    print(i, end=', ')"
   ]
  },
  {
   "cell_type": "code",
   "execution_count": 12,
   "metadata": {},
   "outputs": [
    {
     "name": "stdout",
     "output_type": "stream",
     "text": [
      "10, 9, 8, 7, 6, 5, 4, 3, 2, 1, 0, "
     ]
    }
   ],
   "source": [
    "# Ejercicio 4\n",
    "# Escribir un programa que pida al usuario un número entero positivo y muestre por\n",
    "# pantalla la cuenta atrás desde ese número hasta cero separados por comas.\n",
    "int_num = int(input('Enter a positive integer: '))\n",
    "for i in range(int_num, -1, -1):\n",
    "    print(i, end=', ')"
   ]
  },
  {
   "cell_type": "code",
   "execution_count": 17,
   "metadata": {},
   "outputs": [
    {
     "name": "stdout",
     "output_type": "stream",
     "text": [
      "Has ganado en total  1464.1\n"
     ]
    }
   ],
   "source": [
    "# Ejercicio 5\n",
    "# Escribir un programa que pregunte al usuario una cantidad a invertir, el interés anual y\n",
    "# el número de años, y muestre por pantalla el capital obtenido en la inversión cada año\n",
    "# que dura la inversión.\n",
    "cant_inicial = int(input('Cantidad a invertir: '))\n",
    "interes = int(input('Interés anual: '))\n",
    "age = int(input('Numero de años: '))\n",
    "\n",
    "porcentaje_interes = interes * 0.01\n",
    "ganado_acumulado = cant_inicial\n",
    "\n",
    "for i in range(1, age+1):\n",
    "    ganado_acumulado += (ganado_acumulado * porcentaje_interes)\n",
    "\n",
    "print('Has ganado en total ', ganado_acumulado)\n",
    "\n"
   ]
  },
  {
   "cell_type": "code",
   "execution_count": 1,
   "metadata": {},
   "outputs": [
    {
     "name": "stdout",
     "output_type": "stream",
     "text": [
      "*\n",
      "**\n",
      "***\n",
      "****\n",
      "*****\n"
     ]
    }
   ],
   "source": [
    "# Ejercicio 6\n",
    "# Escribir un programa que pida al usuario un número entero y muestre por pantalla un\n",
    "# triángulo rectángulo como el de más abajo, de altura el número introducido.\n",
    "\n",
    "num = int(input('Enter a number of lines you want to multiplicate the stars:'))\n",
    "for i in range(1, num + 1):\n",
    "    print('*' * i)\n",
    "\n"
   ]
  },
  {
   "cell_type": "code",
   "execution_count": null,
   "metadata": {},
   "outputs": [],
   "source": [
    "# Ejercicio 7\n",
    "# Escribir un programa que muestre por pantalla la tabla de multiplicar del 1 al 10.\n",
    "\n",
    "for x in range(1, 11):\n",
    "    for y in range(1, 11):\n",
    "        print(f'{x} x {y} = { x * y}')"
   ]
  },
  {
   "cell_type": "code",
   "execution_count": 10,
   "metadata": {},
   "outputs": [
    {
     "name": "stdout",
     "output_type": "stream",
     "text": [
      "3\n",
      "5\n",
      "7\n",
      "9\n",
      "11\n"
     ]
    }
   ],
   "source": [
    "# TODO\n",
    "# Ejercicio 8\n",
    "# Escribir un programa que pida al usuario un número entero y muestre por pantalla un\n",
    "# triángulo rectángulo como el de más abajo.\n",
    "num = int(input('Enter a number I will repeat the lines: '))\n",
    "first_num = 1\n",
    "\n",
    "for x in range(1, num+1):\n",
    "    first_num = first_num + 2\n",
    "    print(first_num)    \n"
   ]
  },
  {
   "cell_type": "code",
   "execution_count": 19,
   "metadata": {},
   "outputs": [
    {
     "name": "stdout",
     "output_type": "stream",
     "text": [
      "Incorrect password\n",
      "Incorrect password\n",
      "Welcome!\n"
     ]
    }
   ],
   "source": [
    "# Ejercicio 9\n",
    "# Escribir un programa que almacene la cadena de caracteres contraseña en una\n",
    "# variable, pregunte al usuario por la contraseña hasta que introduzca la contraseña\n",
    "# correcta.\n",
    "default_passwd = 'holacaracola'\n",
    "passwd = str(input('Enter a password: '))\n",
    "\n",
    "while passwd != default_passwd:\n",
    "\n",
    "    print('Incorrect password')\n",
    "    passwd = str(input('Enter a password: '))\n",
    "\n",
    "\n",
    "print('Welcome!')"
   ]
  },
  {
   "cell_type": "code",
   "execution_count": 23,
   "metadata": {},
   "outputs": [
    {
     "name": "stdout",
     "output_type": "stream",
     "text": [
      "Its not prime\n"
     ]
    }
   ],
   "source": [
    "# Ejercicio 10\n",
    "# Escribir un programa que pida al usuario un número entero y muestre por pantalla si\n",
    "# es un número primo o no.\n",
    "#Prime number: not 1, 2 or 3, and if its divisible by 5\n",
    "num = int(input('Is this number prime? '))\n",
    "\n",
    "if num <=1 or num % 2 == 0 or num % 3 == 0 or num == 2 or num == 3:\n",
    "    print('Its not prime')\n",
    "else:\n",
    "    print('Its prime!')\n"
   ]
  },
  {
   "cell_type": "code",
   "execution_count": 5,
   "metadata": {},
   "outputs": [
    {
     "name": "stdout",
     "output_type": "stream",
     "text": [
      "o\n",
      "i\n",
      "n\n",
      "e\n",
      "g\n",
      "u\n",
      "e\n"
     ]
    }
   ],
   "source": [
    "#Ejercicio 11\n",
    "# Escribir un programa que pida al usuario una palabra y luego muestre por pantalla una\n",
    "# a una las letras de la palabra introducida empezando por la última.\n",
    "word = str(input('Enter a word: '))\n",
    "\n",
    "for letter in reversed(word):\n",
    "    print(letter)"
   ]
  },
  {
   "cell_type": "code",
   "execution_count": 6,
   "metadata": {},
   "outputs": [
    {
     "name": "stdout",
     "output_type": "stream",
     "text": [
      "3\n"
     ]
    }
   ],
   "source": [
    "# Ejercicio 12\n",
    "# Escribir un programa en el que se pregunte al usuario por una frase y una letra, y\n",
    "# muestre por pantalla el número de veces que aparece la letra en la frase.\n",
    "phrase = input('Input the phrase: ')\n",
    "word = input('Input the word')\n",
    "\n",
    "count = phrase.count(word)\n",
    "print('The word {word} appears {count} times in the phrase')"
   ]
  },
  {
   "cell_type": "code",
   "execution_count": 8,
   "metadata": {},
   "outputs": [
    {
     "name": "stdout",
     "output_type": "stream",
     "text": [
      "hfhs\n",
      "ewfr\n",
      "ferr\n",
      "fr\n"
     ]
    }
   ],
   "source": [
    "# Ejercicio 13\n",
    "# Escribir un programa que muestre el eco de todo lo que el usuario introduzca hasta\n",
    "# que el usuario escriba “salir” que terminará.\n",
    "\n",
    "word = input('Hasta que no escribas exit, no pararé: ')\n",
    "\n",
    "while word != 'salir':\n",
    "    print(word)\n",
    "    word = input('Hasta que no escribas exit, no pararé: ')\n",
    "\n",
    "print('Adiós!')\n"
   ]
  }
 ],
 "metadata": {
  "kernelspec": {
   "display_name": "base",
   "language": "python",
   "name": "python3"
  },
  "language_info": {
   "codemirror_mode": {
    "name": "ipython",
    "version": 3
   },
   "file_extension": ".py",
   "mimetype": "text/x-python",
   "name": "python",
   "nbconvert_exporter": "python",
   "pygments_lexer": "ipython3",
   "version": "3.12.4"
  }
 },
 "nbformat": 4,
 "nbformat_minor": 2
}
