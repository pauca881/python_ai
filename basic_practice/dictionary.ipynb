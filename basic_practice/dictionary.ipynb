{
 "cells": [
  {
   "cell_type": "code",
   "execution_count": 1,
   "metadata": {},
   "outputs": [
    {
     "data": {
      "text/plain": [
       "{'Pepe': [8.2, 8.4, 7.0], 'Juan': [5.2, 9.4, 6.0]}"
      ]
     },
     "execution_count": 1,
     "metadata": {},
     "output_type": "execute_result"
    }
   ],
   "source": [
    "dicc = {\n",
    "    'Pepe':[8.2,8.4,7.0],\n",
    "    'Juan':[5.2,9.4,6.0]\n",
    "\n",
    "}\n",
    "dicc\n",
    "\n",
    "dicc1 = {\n",
    "    2019: 1_657_980,\n",
    "    2020: 1_657_580,\n",
    "    2021: 1_567_980,\n",
    "}\n",
    "\n",
    "dicc['Pepe']\n",
    "dicc1[2020] = 1_000_000\n",
    "\n",
    "#If the value doesn't exist, with get I will not get a error, simply I don't get nothing\n",
    "dicc1.get[2026]\n"
   ]
  },
  {
   "cell_type": "code",
   "execution_count": 5,
   "metadata": {},
   "outputs": [
    {
     "data": {
      "text/plain": [
       "dict_items([('Pepe', [8.2, 8.4, 7.0]), ('Juan', [5.2, 9.4, 6.0])])"
      ]
     },
     "execution_count": 5,
     "metadata": {},
     "output_type": "execute_result"
    }
   ],
   "source": [
    "dicc.values()\n",
    "dicc.items()"
   ]
  },
  {
   "cell_type": "code",
   "execution_count": 7,
   "metadata": {},
   "outputs": [
    {
     "name": "stdout",
     "output_type": "stream",
     "text": [
      "Pepe - [8.2, 8.4, 7.0]\n",
      "Juan - [5.2, 9.4, 6.0]\n",
      "[8.2, 8.4, 7.0]\n",
      "[5.2, 9.4, 6.0]\n"
     ]
    }
   ],
   "source": [
    "for k in dicc.keys():\n",
    "    print(k,'-',dicc[k])\n",
    "\n",
    "for v in dicc.values():\n",
    "    print(v)\n"
   ]
  },
  {
   "cell_type": "code",
   "execution_count": 8,
   "metadata": {},
   "outputs": [
    {
     "name": "stdout",
     "output_type": "stream",
     "text": [
      "Pepe - [8.2, 8.4, 7.0]\n",
      "Juan - [5.2, 9.4, 6.0]\n"
     ]
    }
   ],
   "source": [
    "for k,v in dicc.items():\n",
    "    print(k,'-',v)"
   ]
  },
  {
   "cell_type": "code",
   "execution_count": null,
   "metadata": {},
   "outputs": [],
   "source": [
    "#Delete\n",
    "del dicc[2024]\n",
    "\n",
    "borrado = dicc1.pop(2024)\n",
    "#In borrado is saved the deleted data"
   ]
  },
  {
   "cell_type": "code",
   "execution_count": null,
   "metadata": {},
   "outputs": [],
   "source": [
    "#Set saves lists with a unique value\n",
    "ages = [21,21,21,21,22,23,22,23,23,23,25]\n",
    "ages = set(ages)\n",
    "ages.add(88)\n",
    "\n",
    "for age in ages:\n",
    "    print(age)\n",
    "\n",
    "ages.remove(88)\n",
    "\n",
    "#If the value doesn't exist it does nothing, if it exists, deletes it\n",
    "ages.discard(88)"
   ]
  },
  {
   "cell_type": "code",
   "execution_count": 16,
   "metadata": {},
   "outputs": [
    {
     "name": "stdout",
     "output_type": "stream",
     "text": [
      "Union (A-B): {1, 2, 3, 4, 5, 6, 7, 8, 9, 10}\n",
      "Diferencia (A-B): {1, 2, 3, 4, 5}\n",
      "Diferencia simetrica (A-B): {1, 2, 3, 4, 5, 6, 7, 8, 9, 10}\n"
     ]
    }
   ],
   "source": [
    "set_a = {1,2,3,4,5}\n",
    "set_b = {6,7,8,9,10}\n",
    "\n",
    "union = set_a | set_b\n",
    "print(f\"Union (A-B): {union}\")\n",
    "\n",
    "diferencia = set_a - set_b\n",
    "print(f\"Diferencia (A-B): {diferencia}\")\n",
    "\n",
    "diferencia_simetrica = set_a ^ set_b\n",
    "print(f\"Diferencia simetrica (A-B): {diferencia_simetrica}\")"
   ]
  },
  {
   "cell_type": "code",
   "execution_count": null,
   "metadata": {},
   "outputs": [],
   "source": [
    "#A frozen set can't be modified\n",
    "cojunto = frozenset(ages)"
   ]
  },
  {
   "cell_type": "code",
   "execution_count": null,
   "metadata": {},
   "outputs": [],
   "source": [
    "#Diccionario por comprensión\n",
    "diccionario = {i: i for i in range(21, -1, -1)}\n",
    "print(diccionario)"
   ]
  },
  {
   "cell_type": "code",
   "execution_count": 21,
   "metadata": {},
   "outputs": [
    {
     "name": "stdout",
     "output_type": "stream",
     "text": [
      "{'GT': 4, 'LFNT': 8, 'CS': 4}\n"
     ]
    }
   ],
   "source": [
    "palabras = ['gato', 'perro', 'elefante', 'ratón', 'casa', 'árbol', 'sol']\n",
    "vocales = 'AEIOUÁÉÍÓÚÜ'\n",
    "\n",
    "\n",
    "def eliminar_vocales(palabra):\n",
    "    resultado = \"\"\n",
    "    for letra in palabra:\n",
    "        if letra not in vocales:\n",
    "            resultado += letra\n",
    "    return resultado\n",
    "\n",
    "\n",
    "diccionario = {eliminar_vocales(palabra.upper()): len(palabra) for palabra in palabras if len(palabra) % 2 == 0 and not any(vocales in palabra)}\n",
    "print(diccionario)\n",
    "\n",
    "\n"
   ]
  }
 ],
 "metadata": {
  "kernelspec": {
   "display_name": "base",
   "language": "python",
   "name": "python3"
  },
  "language_info": {
   "codemirror_mode": {
    "name": "ipython",
    "version": 3
   },
   "file_extension": ".py",
   "mimetype": "text/x-python",
   "name": "python",
   "nbconvert_exporter": "python",
   "pygments_lexer": "ipython3",
   "version": "3.12.4"
  }
 },
 "nbformat": 4,
 "nbformat_minor": 2
}
