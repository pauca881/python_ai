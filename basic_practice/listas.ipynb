{
 "cells": [
  {
   "cell_type": "code",
   "execution_count": null,
   "metadata": {},
   "outputs": [],
   "source": [
    "#In python are lists, not arrays\n",
    "lista1 = []\n",
    "lista1[-2]#Penúltimo elemento de la lista\n",
    "lista1.append(44)\n",
    "print(lista1)\n",
    "\n",
    "#El ultimo elemento es un diccionario {key: unit}\n",
    "lista2 = [2, 'texto', [2,3,4], {'mama:':'la mejor'}]\n",
    "\n",
    "tensor = [[[1,2,3,4],[5,6,7,8]],[[8,9,10,11],[45,45,45,45]]]\n",
    "tensor = [1][2][3]"
   ]
  },
  {
   "cell_type": "code",
   "execution_count": 1,
   "metadata": {},
   "outputs": [
    {
     "data": {
      "text/plain": [
       "[2, 4, 6]"
      ]
     },
     "execution_count": 1,
     "metadata": {},
     "output_type": "execute_result"
    }
   ],
   "source": [
    "lista1 = [1, 2, 3, 4, 5, 6]\n",
    "#Slicing [inicio:fin:paso]\n",
    "lista1[1:6:2]"
   ]
  },
  {
   "cell_type": "code",
   "execution_count": 2,
   "metadata": {},
   "outputs": [
    {
     "name": "stdout",
     "output_type": "stream",
     "text": [
      "1\n",
      "2\n",
      "3\n",
      "4\n",
      "5\n",
      "6\n"
     ]
    }
   ],
   "source": [
    "for element in lista1:\n",
    "    print(element)"
   ]
  },
  {
   "cell_type": "code",
   "execution_count": 5,
   "metadata": {},
   "outputs": [
    {
     "name": "stdout",
     "output_type": "stream",
     "text": [
      "[4, 16, 36]\n",
      "[1, 2, 3, 4, 5, 6] - [4, 16, 36]\n"
     ]
    }
   ],
   "source": [
    "lista = [1,2,3,4,5,6]\n",
    "lista2 = [x**2 for x in lista if x % 2 == 0]\n",
    "print(lista2)\n",
    "\n",
    "# for x in lista: Esto recorre cada elemento x en la lista original lista.\n",
    "\n",
    "# if x % 2 == 0: Esta es una condición. Comprueba si x es par (si al dividirlo por 2, el resto es 0).\n",
    "\n",
    "# x**2: Si x es par, calcula su cuadrado.\n",
    "\n",
    "#También se puede hacer:\n",
    "print(lista,'-',lista2:= [x**2 for x in lista if x % 2 == 0] )\n"
   ]
  },
  {
   "cell_type": "code",
   "execution_count": null,
   "metadata": {},
   "outputs": [],
   "source": [
    "#Lists can be modified, tuple not\n",
    "lista = []\n",
    "tupla = {}\n",
    "\n",
    "lista = [1,2,3,4,5]\n",
    "tupla = tuple(lista)\n",
    "tupla2 = (8,7,6,5,4)\n"
   ]
  },
  {
   "cell_type": "code",
   "execution_count": 6,
   "metadata": {},
   "outputs": [
    {
     "name": "stdout",
     "output_type": "stream",
     "text": [
      "2 1\n"
     ]
    }
   ],
   "source": [
    "def divide(a,b):\n",
    "    return a//b, a%b\n",
    "\n",
    "cociente,resto=divide(5,2)\n",
    "print(cociente,resto)"
   ]
  },
  {
   "cell_type": "code",
   "execution_count": 7,
   "metadata": {},
   "outputs": [
    {
     "data": {
      "text/plain": [
       "[2, 'texto', [2, 3, 4], {'mama:': 'la mejor'}]"
      ]
     },
     "execution_count": 7,
     "metadata": {},
     "output_type": "execute_result"
    }
   ],
   "source": [
    "tupla = (2, 'texto', [2,3,4], {'mama:':'la mejor'})\n",
    "lista = list(tupla)\n",
    "lista"
   ]
  },
  {
   "cell_type": "code",
   "execution_count": null,
   "metadata": {},
   "outputs": [],
   "source": [
    "# ('Juan'[8,4,5]) es una tupla pero puedo modificar la lista dentro de ello\n",
    "\n",
    "[\n",
    "    ('Juan'[8,4,5]),\n",
    "    ('Oscar'[2,5,2])\n",
    "]"
   ]
  },
  {
   "cell_type": "code",
   "execution_count": 8,
   "metadata": {},
   "outputs": [
    {
     "data": {
      "text/plain": [
       "<generator object <genexpr> at 0x000001C46BBC5CB0>"
      ]
     },
     "execution_count": 8,
     "metadata": {},
     "output_type": "execute_result"
    }
   ],
   "source": [
    "cuadrados = (x**2 for x in range(1,1000000))\n",
    "cuadrados"
   ]
  },
  {
   "cell_type": "code",
   "execution_count": null,
   "metadata": {},
   "outputs": [],
   "source": [
    "#lista por compresion\n",
    "lista2 = [x**2 if x % 2 == 0 else \"impar\" for x in lista ]\n",
    "lista2\n",
    "\n",
    "lista2 = [x**2 for x in lista if x % 2 == 0]\n",
    "lista2\n",
    "\n",
    "#preguntar gpt"
   ]
  },
  {
   "cell_type": "code",
   "execution_count": null,
   "metadata": {},
   "outputs": [],
   "source": [
    "#lista por compresion\n",
    "lista2 = [x**2 if x % 2 == 0 else \"impar\" for x in lista ]\n",
    "\n",
    "#buscar en la lista\n",
    "for indice, valor in enumerate(lista):\n",
    "        print(f'Indice {indice} Valor {valor}')"
   ]
  },
  {
   "cell_type": "code",
   "execution_count": null,
   "metadata": {},
   "outputs": [],
   "source": [
    "from collections import Counter\n",
    "\n",
    "lista = [x**2 if x % 2 == 0 else \"impar\" for x in lista ]\n",
    "\n",
    "contador = Counter(lista)\n",
    "contador\n",
    "#preguntar gpt"
   ]
  },
  {
   "cell_type": "code",
   "execution_count": null,
   "metadata": {},
   "outputs": [],
   "source": [
    "import numpy as np\n",
    "np.mean(lista)"
   ]
  },
  {
   "cell_type": "code",
   "execution_count": 12,
   "metadata": {},
   "outputs": [
    {
     "name": "stdout",
     "output_type": "stream",
     "text": [
      "Palindromo\n"
     ]
    }
   ],
   "source": [
    "#Ejercicio palindromo senior\n",
    "word = input('Introduce la palabra te diré si es palindromo')\n",
    "\n",
    "if word == word[::-1]:\n",
    "    print('Palindromo')\n",
    "else: print('NO es palindromo')"
   ]
  },
  {
   "cell_type": "code",
   "execution_count": 36,
   "metadata": {},
   "outputs": [
    {
     "name": "stdout",
     "output_type": "stream",
     "text": [
      "\n",
      "--- Menú de Opciones ---\n",
      "1. Registrar nuevos estudiantes\n",
      "2. Añadir notas a un estudiante existente.\n",
      "3. Calcular la media de las notas de cada estudiante.\n",
      "4. Mostrar los estudiantes aprobados (media mayor o igual a 6).\n",
      "5. Mostrar los estudiantes con la mejor nota promedio.\n",
      "6. Salir\n",
      "David\n",
      "El mejor estudiante es: \n",
      "\n",
      "--- Menú de Opciones ---\n",
      "1. Registrar nuevos estudiantes\n",
      "2. Añadir notas a un estudiante existente.\n",
      "3. Calcular la media de las notas de cada estudiante.\n",
      "4. Mostrar los estudiantes aprobados (media mayor o igual a 6).\n",
      "5. Mostrar los estudiantes con la mejor nota promedio.\n",
      "6. Salir\n",
      "Gracias por usar el programa. ¡Hasta luego!\n"
     ]
    }
   ],
   "source": [
    "estudiantes = [\n",
    "\n",
    "    ('Juan', [4,5,6]),\n",
    "    ('Alberto', [7,4,6]),\n",
    "    ('Carlos', [1,1,3]),\n",
    "    ('David', [8,8,8]),\n",
    "\n",
    "]\n",
    "\n",
    "#Option Menu Python\n",
    "def mostrar_menu():\n",
    "    print(\"\\n--- Menú de Opciones ---\")\n",
    "    print(\"1. Registrar nuevos estudiantes\")\n",
    "    print(\"2. Añadir notas a un estudiante existente.\")\n",
    "    print(\"3. Calcular la media de las notas de cada estudiante.\")\n",
    "    print(\"4. Mostrar los estudiantes aprobados (media mayor o igual a 6).\")\n",
    "    print(\"5. Mostrar los estudiantes con la mejor nota promedio.\")\n",
    "    print(\"6. Salir\")\n",
    "\n",
    "def opcion1():\n",
    "    name = input('Nombre del estudiante: ')\n",
    "    estudiantes.append((name, []))\n",
    "    print(estudiantes)\n",
    "\n",
    "def opcion2():\n",
    "    print(estudiantes)\n",
    "    name = input('A que estudiante quieres ponerle?')\n",
    "    nota = int(input('Que nota quieres ponerle?'))\n",
    "\n",
    "    #First we search the student in the list\n",
    "    for estudiante in estudiantes:\n",
    "        if estudiante[0] == name:\n",
    "            estudiante[1].append(nota)\n",
    "            print(f'La nota de {name} ha sido añadida')\n",
    "            print(name, estudiante)\n",
    "        else:\n",
    "            print(end='')\n",
    "        \n",
    "    print('Opción 2 finalizada')\n",
    "\n",
    "\n",
    "def opcion3():\n",
    "\n",
    "    # Calcular la media\n",
    "    # media = sum(numeros) / len(numeros)\n",
    "\n",
    "    for estudiante in estudiantes:\n",
    "        print(f'La nota media de {estudiante[0]}, es de {sum(estudiante[1])/len(estudiante[1])}')\n",
    "\n",
    "def opcion4():\n",
    "    print(\"Lista de alumnos de Aprobados:\")\n",
    "\n",
    "    for estudiante in estudiantes:\n",
    "        media = sum(estudiante[1])/len(estudiante[1])\n",
    "        if media >= 6:\n",
    "            print(f'El alumno {estudiante[0]} esta APROBADO')\n",
    "        else: \n",
    "            print(f'El alumno {estudiante[0]} esta SUSPENDIDO')\n",
    "\n",
    "\n",
    "def opcion5():\n",
    "\n",
    "    nombres = [estudiante[0] for estudiante in estudiantes]\n",
    "    medias = [sum(estudiante[1]) / len(estudiante[1]) for estudiante in estudiantes]\n",
    "    max_nota = max(medias)\n",
    "\n",
    "    estudiante_top = nombres[medias.index(max_nota)]\n",
    "\n",
    "    print(f\"El mejor estudiante es: {estudiante_top}\")\n",
    "\n",
    "\n",
    "\n",
    "while True:\n",
    "    mostrar_menu()\n",
    "    opcion = input(\"Selecciona una opción (1-6): \")\n",
    "\n",
    "    if opcion == \"1\":\n",
    "        opcion1()\n",
    "    elif opcion == \"2\":\n",
    "        opcion2()\n",
    "    elif opcion == \"3\":\n",
    "        opcion3()\n",
    "    elif opcion == \"4\":\n",
    "        opcion4()\n",
    "    elif opcion == \"5\":\n",
    "        opcion5()\n",
    "    elif opcion == \"6\":\n",
    "        print(\"Gracias por usar el programa. ¡Hasta luego!\")\n",
    "        break\n",
    "    else:\n",
    "        print(\"Opción no válida. Por favor, intenta de nuevo.\")"
   ]
  }
 ],
 "metadata": {
  "kernelspec": {
   "display_name": "base",
   "language": "python",
   "name": "python3"
  },
  "language_info": {
   "codemirror_mode": {
    "name": "ipython",
    "version": 3
   },
   "file_extension": ".py",
   "mimetype": "text/x-python",
   "name": "python",
   "nbconvert_exporter": "python",
   "pygments_lexer": "ipython3",
   "version": "3.12.4"
  }
 },
 "nbformat": 4,
 "nbformat_minor": 2
}
