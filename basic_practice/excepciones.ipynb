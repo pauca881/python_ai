{
 "cells": [
  {
   "cell_type": "code",
   "execution_count": 6,
   "metadata": {},
   "outputs": [
    {
     "name": "stdout",
     "output_type": "stream",
     "text": [
      "Error: No se puede dividir por cero\n"
     ]
    }
   ],
   "source": [
    "try:\n",
    "    num = int(input('Introduce num: '))\n",
    "    resultado = 17/num\n",
    "except ValueError:\n",
    "    print('Error: texto no es un número')\n",
    "except ZeroDivisionError:\n",
    "    print(\"Error: No se puede dividir por cero\")\n",
    "except NameError:\n",
    "    print('No se puede imprimir el resultado')\n",
    "else:\n",
    "    print(f'La operación fue exitosa, el resultado es {resultado}')\n",
    "finally:\n",
    "    print('Esta linea siempre se imprimirá')"
   ]
  },
  {
   "cell_type": "code",
   "execution_count": 8,
   "metadata": {},
   "outputs": [
    {
     "name": "stdout",
     "output_type": "stream",
     "text": [
      "Capturado  Un error personalizado ocurrió\n"
     ]
    }
   ],
   "source": [
    "class MiErrorPersonalizado(Exception):\n",
    "    pass\n",
    "def funcion_que_falla(num1,num2):\n",
    "    if num2 == 7:\n",
    "        raise MiErrorPersonalizado(\"Un error personalizado ocurrió\")\n",
    "\n",
    "try:\n",
    "    funcion_que_falla()\n",
    "except MiErrorPersonalizado as e:\n",
    "    print(\"Capturado \", e)"
   ]
  },
  {
   "cell_type": "code",
   "execution_count": null,
   "metadata": {},
   "outputs": [],
   "source": []
  }
 ],
 "metadata": {
  "kernelspec": {
   "display_name": "base",
   "language": "python",
   "name": "python3"
  },
  "language_info": {
   "codemirror_mode": {
    "name": "ipython",
    "version": 3
   },
   "file_extension": ".py",
   "mimetype": "text/x-python",
   "name": "python",
   "nbconvert_exporter": "python",
   "pygments_lexer": "ipython3",
   "version": "3.12.4"
  }
 },
 "nbformat": 4,
 "nbformat_minor": 2
}
