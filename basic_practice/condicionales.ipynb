{
 "cells": [
  {
   "cell_type": "code",
   "execution_count": 1,
   "metadata": {},
   "outputs": [
    {
     "name": "stdout",
     "output_type": "stream",
     "text": [
      "Its ok\n"
     ]
    }
   ],
   "source": [
    "#El archivo ipynb, la extensión notebook me permite crear bloques con Jupiter\n",
    "#Stock control variable\n",
    "stock = 0\n",
    "\n",
    "#The key \\ serves to divide the line code in two or more lines:\n",
    "\n",
    "factorial = 5 * 4 \\\n",
    "        * 3 * 2\n",
    "\n",
    "temp = 30\n",
    "\n",
    "if temp > 35:\n",
    "    print('Its hot')\n",
    "elif temp > 40:\n",
    "    print('Its insoportable')\n",
    "else: print('Its ok')"
   ]
  },
  {
   "cell_type": "code",
   "execution_count": 3,
   "metadata": {},
   "outputs": [
    {
     "name": "stdout",
     "output_type": "stream",
     "text": [
      "Its very hot again\n"
     ]
    }
   ],
   "source": [
    "temp = 20\n",
    "if temp < 20:\n",
    "    if temp < 10:\n",
    "        print('Its freezing')\n",
    "    else:\n",
    "        print('Its cold but its okay')\n",
    "    \n",
    "else:\n",
    "    if temp > 30:\n",
    "        print('Its hot but not much')\n",
    "    else:\n",
    "        print('Its very hot again')"
   ]
  },
  {
   "cell_type": "code",
   "execution_count": null,
   "metadata": {},
   "outputs": [],
   "source": [
    "#Logic Operators and or\n",
    "name = 'pau'\n",
    "age = 21\n",
    "\n",
    "#Strict Disco\n",
    "if name == 'pau' and age == 21:\n",
    "    print('Enter in the disco')\n",
    "\n",
    "#Permissive Disco\n",
    "if name == 'pau' or age == 21:\n",
    "    print('Enter in the disco')\n",
    "\n"
   ]
  },
  {
   "cell_type": "code",
   "execution_count": null,
   "metadata": {},
   "outputs": [],
   "source": [
    "rain = True\n",
    "if rain == True:\n",
    "    print('Take up the umbrella')\n",
    "else:\n",
    "     print('You dont need to take up the umbrella')"
   ]
  },
  {
   "cell_type": "code",
   "execution_count": null,
   "metadata": {},
   "outputs": [],
   "source": [
    "value = None\n",
    "\n",
    "if value is None:\n",
    "    print('The value is ' + value)"
   ]
  },
  {
   "cell_type": "code",
   "execution_count": 5,
   "metadata": {},
   "outputs": [
    {
     "name": "stdout",
     "output_type": "stream",
     "text": [
      "red\n",
      "\n"
     ]
    }
   ],
   "source": [
    "color = '#FF0000'\n",
    "match color:\n",
    "    case '#FF0000':\n",
    "        print('red')\n",
    "        print()\n",
    "    case '#00FF00':\n",
    "        print('green')\n",
    "    case _:\n",
    "        print('uknown color')\n"
   ]
  },
  {
   "cell_type": "code",
   "execution_count": 7,
   "metadata": {},
   "outputs": [
    {
     "name": "stdout",
     "output_type": "stream",
     "text": [
      "Two values\n",
      "el valor de x es 2  y el valor de y es 5\n",
      "The value of ((2, 5)) is from pau\n"
     ]
    }
   ],
   "source": [
    "point = (2,5)\n",
    "name = 'pau'\n",
    "match point:\n",
    "    case (x,y):\n",
    "        print('Two values')\n",
    "        print('el valor de x es',x, ' y el valor de y es', y)\n",
    "        print(f'The value of ({x,y}) is from {name}')\n",
    "    case (x,y,z):\n",
    "        print('Three values')"
   ]
  },
  {
   "cell_type": "code",
   "execution_count": 8,
   "metadata": {},
   "outputs": [
    {
     "name": "stdout",
     "output_type": "stream",
     "text": [
      "They are integers\n"
     ]
    }
   ],
   "source": [
    "point = (2,5)\n",
    "\n",
    "match point:\n",
    "    case (int(),int()):\n",
    "        print('They are integers')\n",
    "    case (str(),str()):\n",
    "        print('They are strings')"
   ]
  },
  {
   "cell_type": "code",
   "execution_count": 19,
   "metadata": {},
   "outputs": [
    {
     "ename": "IndentationError",
     "evalue": "expected an indented block after 'if' statement on line 4 (3454494573.py, line 5)",
     "output_type": "error",
     "traceback": [
      "\u001b[1;36m  Cell \u001b[1;32mIn[19], line 5\u001b[1;36m\u001b[0m\n\u001b[1;33m    print('Small')\u001b[0m\n\u001b[1;37m    ^\u001b[0m\n\u001b[1;31mIndentationError\u001b[0m\u001b[1;31m:\u001b[0m expected an indented block after 'if' statement on line 4\n"
     ]
    }
   ],
   "source": [
    "#Morsa operator ( only in Py )\n",
    "radio = 4.25\n",
    "perimeter = 2 * 3.14 * radio\n",
    "if perimeter < 100:\n",
    "    print('Small')\n",
    "    print('Perimeter:', perimeter)"
   ]
  },
  {
   "cell_type": "code",
   "execution_count": null,
   "metadata": {},
   "outputs": [],
   "source": [
    "age = 18\n",
    "message = 'You are of legal age' if age >= 18 else 'You are a minor'\n",
    "print(message)"
   ]
  },
  {
   "cell_type": "code",
   "execution_count": null,
   "metadata": {},
   "outputs": [],
   "source": [
    "x = 19\n",
    "y = 5\n",
    "z = 20\n",
    "#Which letter has the major value?\n",
    "\n",
    "if x > y and x > z:\n",
    "    print('X has the major value')\n",
    "elif y > x and y > z:\n",
    "    print('Y is the major')\n",
    "else:\n",
    "    print('Z is the major')"
   ]
  },
  {
   "cell_type": "code",
   "execution_count": null,
   "metadata": {},
   "outputs": [],
   "source": [
    "def es_par(numero):\n",
    "    return numero % 2 == 0\n",
    "\n",
    "numero = 11\n",
    "\n",
    "if es_par(numero):\n",
    "    print(f\"El número {numero} es par\")\n",
    "else:\n",
    "    print(f\"El número {numero} es impar.\")\n"
   ]
  },
  {
   "cell_type": "code",
   "execution_count": 20,
   "metadata": {},
   "outputs": [
    {
     "name": "stdout",
     "output_type": "stream",
     "text": [
      "Legal age\n"
     ]
    }
   ],
   "source": [
    "#Lamda\n",
    "age = 20\n",
    "validate_age = lambda age:\"Legal age\" if age >= 18 else 'Minor age'\n",
    "print(validate_age(age))"
   ]
  },
  {
   "cell_type": "code",
   "execution_count": 22,
   "metadata": {},
   "outputs": [
    {
     "name": "stdout",
     "output_type": "stream",
     "text": [
      "Dia laboral\n"
     ]
    }
   ],
   "source": [
    "dia = 'martes'\n",
    "\n",
    "if dia in ['lunes', 'martes', 'miercoles']:\n",
    "    print('Dia laboral')\n",
    "else:\n",
    "    print(\"No es un dia laboral\")"
   ]
  },
  {
   "cell_type": "code",
   "execution_count": null,
   "metadata": {},
   "outputs": [],
   "source": [
    "age = 18\n",
    "if age > 18: estado = 'Mayor de edad'\n",
    "else: estado = 'Menor de edad'\n",
    "print(estado)\n",
    "\n"
   ]
  },
  {
   "cell_type": "code",
   "execution_count": 1,
   "metadata": {},
   "outputs": [
    {
     "name": "stdout",
     "output_type": "stream",
     "text": [
      "Congrats you have a legal age\n"
     ]
    }
   ],
   "source": [
    "# Ejercicio 1\n",
    "# Escribir un programa que pregunte al usuario su edad y muestre por pantalla si es\n",
    "# mayor de edad o no.\n",
    "age = int(input('Type your age: '))\n",
    "if age >= 18: print('Congrats you have a legal age')\n",
    "else: ('Youre a minor')"
   ]
  },
  {
   "cell_type": "code",
   "execution_count": 3,
   "metadata": {},
   "outputs": [
    {
     "name": "stdout",
     "output_type": "stream",
     "text": [
      "Correct Password\n"
     ]
    }
   ],
   "source": [
    "# Ejercicio 2\n",
    "# Escribir un programa que almacene la cadena de caracteres contraseña en una\n",
    "# variable, pregunte al usuario por la contraseña e imprima por pantalla si la contraseña\n",
    "# introducida por el usuario coincide con la guardada en la variable sin tener en cuenta\n",
    "# mayúsculas y minúsculas.\n",
    "passwd_def = 'hola'\n",
    "passwd = input('Enter password: ')\n",
    "\n",
    "if passwd == passwd_def: print('Correct Password')\n",
    "else: print('Incorrect Password')"
   ]
  },
  {
   "cell_type": "code",
   "execution_count": 5,
   "metadata": {},
   "outputs": [
    {
     "name": "stdout",
     "output_type": "stream",
     "text": [
      "10/2: 5.0\n"
     ]
    }
   ],
   "source": [
    "# Ejercicio 3\n",
    "# Escribir un programa que pida al usuario dos números y muestre por pantalla su\n",
    "# división. Si el divisor es cero el programa debe mostrar un error.\n",
    "\n",
    "num1 = int(input('Number 1: '))\n",
    "num2 = int(input('Number 2: '))\n",
    "\n",
    "if num2 == 0: print('Error, divisor cannot be 0')\n",
    "else: print(f'{num1}/{num2}:', num1 / num2)\n"
   ]
  },
  {
   "cell_type": "code",
   "execution_count": 9,
   "metadata": {},
   "outputs": [
    {
     "name": "stdout",
     "output_type": "stream",
     "text": [
      "impar\n"
     ]
    }
   ],
   "source": [
    "# Ejercicio 4\n",
    "# Escribir un programa que pida al usuario un número entero y muestre por pantalla si\n",
    "# es par o impar.\n",
    "num = int(input('Enter the number: '))\n",
    "\n",
    "if num % 2 == 0:\n",
    "    print('Par')\n",
    "else: print('impar')"
   ]
  },
  {
   "cell_type": "code",
   "execution_count": 10,
   "metadata": {},
   "outputs": [
    {
     "name": "stdout",
     "output_type": "stream",
     "text": [
      "Time to tribute\n"
     ]
    }
   ],
   "source": [
    "# Ejercicio 5\n",
    "# Para tributar un determinado impuesto se debe ser mayor de 16 años y tener unos\n",
    "# ingresos iguales o superiores a 1000 € mensuales. Escribir un programa que pregunte\n",
    "# al usuario su edad y sus ingresos mensuales y muestre por pantalla si el usuario tiene\n",
    "# que tributar o no.\n",
    "age = int(input('Enter your age: '))\n",
    "salary = int(input('Salary: '))\n",
    "\n",
    "if age > 16 and salary >= 1000: print('Time to tribute')\n",
    "else: print('Go free!!')"
   ]
  },
  {
   "cell_type": "code",
   "execution_count": 12,
   "metadata": {},
   "outputs": [
    {
     "name": "stdout",
     "output_type": "stream",
     "text": [
      "Grupo B\n"
     ]
    }
   ],
   "source": [
    "# Ejercicio 6\n",
    "# Los alumnos de un curso se han dividido en dos grupos A y B de acuerdo al sexo y el\n",
    "# nombre. El grupo A esta formado por las mujeres con un nombre anterior a la M y los\n",
    "# hombres con un nombre posterior a la N y el grupo B por el resto. Escribir un programa\n",
    "# que pregunte al usuario su nombre y sexo, y muestre por pantalla el grupo que le\n",
    "# corresponde.\n",
    "\n",
    "name = input('Name: ').lower()\n",
    "gender = input('Gender(m/f): ').lower()\n",
    "\n",
    "first_letter = name[0]\n",
    "if (gender == 'f' and first_letter < 'm') or (gender == 'm' and first_letter > 'n'):\n",
    "    print('Grupo A')\n",
    "else:\n",
    "    print('Grupo B') "
   ]
  },
  {
   "cell_type": "code",
   "execution_count": 14,
   "metadata": {},
   "outputs": [
    {
     "name": "stdout",
     "output_type": "stream",
     "text": [
      "Te corresponde un tipo impositivo de 2102.25€\n",
      "\n"
     ]
    }
   ],
   "source": [
    "# Los tramos impositivos para la declaración de la renta en un determinado país son los\n",
    "# siguientes:\n",
    "\n",
    "# Renta    Tipo impositivo\n",
    "\n",
    "# Menos de 10000€ 5%\n",
    "\n",
    "# Entre 10000€ y 20000€ 15%\n",
    "\n",
    "# Entre 20000€ y 35000€ 20%\n",
    "\n",
    "# Entre 35000€ y 60000€ 30%\n",
    "\n",
    "# Más de 60000€ 45%\n",
    "\n",
    "# Escribir un programa que pregunte al usuario su renta anual y muestre por pantalla el\n",
    "# tipo impositivo que le corresponde.\n",
    "\n",
    "num = int(input('Renta anual: '))\n",
    "\n",
    "if num > 10000:\n",
    "    print(f'Te corresponde un tipo impositivo de {num * 0.05}€')\n",
    "elif num > 10000 and num < 20000:\n",
    "    print(f'Te corresponde un tipo impositivo de {num * 0.15}€')\n",
    "elif num > 20000 and num > 30000:\n",
    "    print(f'Te corresponde un tipo impositivo de {num * 0.20}€')\n",
    "elif num > 35000 and num > 60000:\n",
    "    print(f'Te corresponde un tipo impositivo de {num * 0.30}€')\n",
    "elif num > 60000:\n",
    "    print(f'Te corresponde un tipo impositivo de {num * 0.45}€')\n",
    "\n",
    "print('')\n"
   ]
  }
 ],
 "metadata": {
  "kernelspec": {
   "display_name": "base",
   "language": "python",
   "name": "python3"
  },
  "language_info": {
   "codemirror_mode": {
    "name": "ipython",
    "version": 3
   },
   "file_extension": ".py",
   "mimetype": "text/x-python",
   "name": "python",
   "nbconvert_exporter": "python",
   "pygments_lexer": "ipython3",
   "version": "3.12.4"
  }
 },
 "nbformat": 4,
 "nbformat_minor": 2
}
